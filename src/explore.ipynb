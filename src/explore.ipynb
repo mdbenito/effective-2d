{
 "cells": [
  {
   "cell_type": "markdown",
   "metadata": {},
   "source": [
    "# Problem definition\n",
    "\n",
    "We wish to minimize\n",
    "\n",
    "$$ I(u,v) = \\frac{\\theta}{2} \\int_{\\omega} Q_2(\\nabla_s u + \\tfrac{1}{2} \\nabla v \\otimes \\nabla v) \\mathrm{d}x\n",
    "   + \\frac{1}{24} \\int_{\\omega} Q_2(\\nabla^2 v - B) \\mathrm{d}x, $$\n",
    "\n",
    "with $B \\in \\mathbb{R}^{2 \\times 2}$, e.g. the identity matrix, and $Q_2$ a quadratic form, e.g. (isotropic material):\n",
    "\n",
    "$$ Q_2 (F) = 2 \\mu | \\operatorname{sym} F |^2 + \\frac{2 \\mu \\lambda}{2 \\mu + \\lambda}\n",
    "   \\operatorname{tr}^2 F, \\quad F \\in \\mathbb{R}^{2 \\times 2}, $$\n",
    "\n",
    "or, for a specific choice of constants, the simpler $Q_2(F) = |F|^2$.\n",
    "  \n",
    "We work in $P_1$ with the constraints of zero mean and zero mean antisymmetric gradient. Because we only have $C^0$ elements we set $z$ for $\\nabla v$ and minimize instead\n",
    "\n",
    "$$ J(u,z) = \\frac{\\theta}{2} \\int_{\\omega} Q_2(\\nabla_s u + \\tfrac{1}{2} z \\otimes z) \\mathrm{d}x \n",
    "          + \\frac{1}{24} \\int_{\\omega} Q_2\\nabla z - B) \\mathrm{d}x \n",
    "          + \\mu \\int_{\\omega} |\\mathrm{curl}\\ z|^{2} \\mathrm{d}x, $$\n",
    "\n",
    "then recover the vertical displacements (up to a constant) by minimizing\n",
    "\n",
    "$$ F(p,q) = \\tfrac{1}{2} || \\nabla p - q ||^2 + \\tfrac{1}{2} || q - z ||^2. $$\n",
    "\n",
    "This we do by solving the linear problem $D F = 0$.\n",
    "\n",
    "Minimization of the energy functional $J$ is done via gradient descent and a line search. In particular, at each timestep we compute $d_t w \\in W $ such that for all $\\tau \\in W$:\n",
    "\n",
    "$$ (d_t w, \\tau)_{H^1_0 \\times H^2_0} = -DJ(w_t)[\\tau] $$\n",
    "\n",
    "Note that it is essential to use the full scalar product (or the one corresponding to the seminorms? check this) or we run into issues at the boundaries (to see this start with zero displacements and integrate by parts).(Also: the proper Riesz representative will only be obtained with correct scalar product).\n",
    "\n",
    "A decoupled gradient descent in each component does not work, probably because the functional is not separately convex (see Bartels' book, p. 110, remark (iv)).\n",
    "\n",
    "In plane displacements and gradients of out of plane displacements form a mixed function space $U \\times Z$. We also have another scalar space $V$ where the potential of the out of plane gradients lives. The model is defined and solved in `run_model()`."
   ]
  },
  {
   "cell_type": "code",
   "execution_count": null,
   "metadata": {},
   "outputs": [],
   "source": [
    "%matplotlib inline\n",
    "import matplotlib.pyplot as pl\n",
    "from incense import ExperimentLoader"
   ]
  },
  {
   "cell_type": "markdown",
   "metadata": {},
   "source": [
    "# Exploring the range of $\\theta$"
   ]
  },
  {
   "cell_type": "code",
   "execution_count": null,
   "metadata": {},
   "outputs": [],
   "source": [
    "loader = ExperimentLoader(mongo_uri='mongo:27017', db_name='lvk')\n",
    "\n",
    "experiments = loader.find_by_config_key(\"init\", \"ani_parab\")"
   ]
  },
  {
   "cell_type": "code",
   "execution_count": null,
   "metadata": {},
   "outputs": [],
   "source": [
    "def average_last(ss):\n",
    "    return ss[-10:].mean()\n",
    "\n",
    "res = experiments.project(on=[\"config.theta\",\n",
    "                              \"config.mu_scale\",\n",
    "                              {\"metrics.J\": average_last,\n",
    "                               \"metrics.symmetry\": average_last,\n",
    "                               \"metrics.constraint\": average_last,\n",
    "                               \"metrics.Kxx\": average_last,\n",
    "                               \"metrics.Kxy\": average_last,\n",
    "                               \"metrics.Kyy\": average_last,\n",
    "                               \"metrics.alpha\": len}])\n",
    "\n",
    "# HACK: there is probably a better way of counting (and I could use df.rename())\n",
    "res['steps'] = res['alpha_len']\n",
    "del res['alpha_len']\n",
    "\n",
    "n = len(res)"
   ]
  },
  {
   "cell_type": "code",
   "execution_count": null,
   "metadata": {},
   "outputs": [],
   "source": [
    "pl.figure(figsize=(16,8))\n",
    "pl.plot(res['theta'][:n], res['symmetry_average_last'][:n], marker='.', label='symmetry')\n",
    "pl.xlabel('$\\\\theta$', fontsize=16)\n",
    "pl.ylabel('symmetry', fontsize=16)\n",
    "pl.legend()\n",
    "pl.tick_params(axis='both', which='major', labelsize=16)"
   ]
  },
  {
   "cell_type": "code",
   "execution_count": null,
   "metadata": {},
   "outputs": [],
   "source": [
    "pl.figure(figsize=(16,8))\n",
    "pl.plot(res['theta'][:n], res['Kxx_average_last'][:n], marker='.', label=\"$K_{xx}$\")\n",
    "pl.plot(res['theta'][:n], res['Kxy_average_last'][:n], marker='.', label=\"$K_{xy}$\")\n",
    "pl.plot(res['theta'][:n], res['Kyy_average_last'][:n], marker='.', label=\"$K_{yy}$\")\n",
    "pl.xlabel('$\\\\theta$', fontsize=16)\n",
    "pl.ylabel('curvatures', fontsize=16)\n",
    "pl.legend()\n",
    "pl.tick_params(axis='both', which='major', labelsize=16)\n",
    "#pl.savefig('theta-symmetry.eps')"
   ]
  },
  {
   "cell_type": "markdown",
   "metadata": {},
   "source": [
    "With increasing $\\theta$ we expect the symmetry of the solution to be ever more violated until it is cylindrical rather than parabolic. We see a sharp increase around $\\theta = 78$. Note that this could mean little since\n",
    "* We use a poor criterion for symmetry (we are just taking the quotient of the principal axes)\n",
    "* Used solutions are not necessarily minima (gradient descent might not converge to $\\epsilon_{\\text{stop}}$ precision)\n",
    "* ..."
   ]
  },
  {
   "cell_type": "code",
   "execution_count": null,
   "metadata": {},
   "outputs": [],
   "source": [
    "pl.figure(figsize=(16,8))\n",
    "pl.plot(res['theta'][:n], res['constraint_average_last'][:n]*1e4, marker='.', label='$|curl|$')\n",
    "#pl.plot(res['theta'][:n], res['mu_scale'][:n], marker='x', label='$\\mu_\\epsilon scale$')\n",
    "pl.xlabel('$\\\\theta$', fontsize=16)\n",
    "pl.ylabel('$|curl|*10^4$', fontsize=16)\n",
    "pl.tick_params(axis='both', which='major', labelsize=16)\n",
    "_ = pl.legend()\n",
    "#pl.savefig('theta-curl.eps')"
   ]
  },
  {
   "cell_type": "code",
   "execution_count": null,
   "metadata": {},
   "outputs": [],
   "source": [
    "pl.figure(figsize=(16,8))\n",
    "pl.plot(res['theta'][:n], res['steps'][:n], marker='.')\n",
    "pl.xlabel('$\\\\theta$', fontsize=16)\n",
    "pl.ylabel('Num. steps', fontsize=16)\n",
    "pl.tick_params(axis='both', which='major', labelsize=16)"
   ]
  },
  {
   "cell_type": "code",
   "execution_count": null,
   "metadata": {},
   "outputs": [],
   "source": []
  }
 ],
 "metadata": {
  "hide_input": false,
  "kernelspec": {
   "display_name": "Python 3",
   "language": "python",
   "name": "python3"
  },
  "language_info": {
   "codemirror_mode": {
    "name": "ipython",
    "version": 3
   },
   "file_extension": ".py",
   "mimetype": "text/x-python",
   "name": "python",
   "nbconvert_exporter": "python",
   "pygments_lexer": "ipython3",
   "version": "3.5.2"
  },
  "toc": {
   "nav_menu": {
    "height": "132px",
    "width": "274px"
   },
   "number_sections": true,
   "sideBar": true,
   "skip_h1_title": false,
   "toc_cell": false,
   "toc_position": {},
   "toc_section_display": "block",
   "toc_window_display": false
  },
  "varInspector": {
   "cols": {
    "lenName": 16,
    "lenType": 16,
    "lenVar": 40
   },
   "kernels_config": {
    "python": {
     "delete_cmd_postfix": "",
     "delete_cmd_prefix": "del ",
     "library": "var_list.py",
     "varRefreshCmd": "print(var_dic_list())"
    },
    "r": {
     "delete_cmd_postfix": ") ",
     "delete_cmd_prefix": "rm(",
     "library": "var_list.r",
     "varRefreshCmd": "cat(var_dic_list()) "
    }
   },
   "types_to_exclude": [
    "module",
    "function",
    "builtin_function_or_method",
    "instance",
    "_Feature"
   ],
   "window_display": false
  }
 },
 "nbformat": 4,
 "nbformat_minor": 2
}
