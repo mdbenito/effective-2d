{
 "cells": [
  {
   "cell_type": "code",
   "execution_count": null,
   "metadata": {},
   "outputs": [],
   "source": [
    "from dolfin import *\n",
    "import numpy as np"
   ]
  },
  {
   "cell_type": "code",
   "execution_count": null,
   "metadata": {},
   "outputs": [],
   "source": [
    "msh = UnitSquareMesh(20,20)\n",
    "W = VectorFunctionSpace(msh, \"Lagrange\", 3, dim=2)   # Gradients of out of plane displacements\n",
    "w = TrialFunction(W)   # w = grad v\n",
    "\n",
    "G = "
   ]
  },
  {
   "cell_type": "code",
   "execution_count": null,
   "metadata": {},
   "outputs": [],
   "source": [
    "from dolfin import *\n",
    "\n",
    "# Optimization options for the form compiler\n",
    "parameters[\"form_compiler\"][\"cpp_optimize\"] = True\n",
    "ffc_options = {\"optimize\": True}\n",
    "\n",
    "# Create mesh and define function space\n",
    "mesh = UnitCubeMesh(24, 16, 16)\n",
    "V = VectorFunctionSpace(mesh, \"Lagrange\", 1)\n",
    "\n",
    "# Mark boundary subdomians\n",
    "left =  CompiledSubDomain(\"near(x[0], side) && on_boundary\", side = 0.0)\n",
    "right = CompiledSubDomain(\"near(x[0], side) && on_boundary\", side = 1.0)\n",
    "\n",
    "# Define Dirichlet boundary (x = 0 or x = 1)\n",
    "c = Constant((0.0, 0.0, 0.0))\n",
    "r = Expression((\"scale*0.0\",\n",
    "                \"scale*(y0 + (x[1] - y0)*cos(theta) - (x[2] - z0)*sin(theta) - x[1])\",\n",
    "                \"scale*(z0 + (x[1] - y0)*sin(theta) + (x[2] - z0)*cos(theta) - x[2])\"),\n",
    "                scale = 0.5, y0 = 0.5, z0 = 0.5, theta = pi/3, degree=2)\n",
    "\n",
    "bcl = DirichletBC(V, c, left)\n",
    "bcr = DirichletBC(V, r, right)\n",
    "bcs = [bcl, bcr]\n",
    "\n",
    "# Define functions\n",
    "du = TrialFunction(V)            # Incremental displacement\n",
    "v  = TestFunction(V)             # Test function\n",
    "u  = Function(V)                 # Displacement from previous iteration\n",
    "B  = Constant((0.0, -0.5, 0.0))  # Body force per unit volume\n",
    "T  = Constant((0.1,  0.0, 0.0))  # Traction force on the boundary\n",
    "\n",
    "# Kinematics\n",
    "d = len(u)\n",
    "I = Identity(d)             # Identity tensor\n",
    "F = I + grad(u)             # Deformation gradient\n",
    "C = F.T*F                   # Right Cauchy-Green tensor\n",
    "\n",
    "# Invariants of deformation tensors\n",
    "Ic = tr(C)\n",
    "J  = det(F)\n",
    "\n",
    "# Elasticity parameters\n",
    "E, nu = 10.0, 0.3\n",
    "mu, lmbda = Constant(E/(2*(1 + nu))), Constant(E*nu/((1 + nu)*(1 - 2*nu)))\n",
    "\n",
    "# Stored strain energy density (compressible neo-Hookean model)\n",
    "psi = (mu/2)*(Ic - 3) - mu*ln(J) + (lmbda/2)*(ln(J))**2\n",
    "\n",
    "# Total potential energy\n",
    "Pi = psi*dx - dot(B, u)*dx - dot(T, u)*ds\n",
    "\n",
    "# Compute first variation of Pi (directional derivative about u in the direction of v)\n",
    "F = derivative(Pi, u, v)\n",
    "\n",
    "# Compute Jacobian of F\n",
    "J = derivative(F, u, du)\n",
    "\n",
    "# Solve variational problem\n",
    "solve(F == 0, u, bcs, J=J,\n",
    "      form_compiler_parameters=ffc_options)\n",
    "\n",
    "# Save solution in VTK format\n",
    "file = File(\"displacement.pvd\");\n",
    "file << u;\n",
    "\n",
    "# Plot and hold solution\n",
    "plot(u, mode = \"displacement\", interactive = True)"
   ]
  },
  {
   "cell_type": "code",
   "execution_count": null,
   "metadata": {},
   "outputs": [],
   "source": [
    "from IPython.display import HTML"
   ]
  },
  {
   "cell_type": "code",
   "execution_count": null,
   "metadata": {},
   "outputs": [],
   "source": [
    "HTML(X3DOM().html(u))"
   ]
  },
  {
   "cell_type": "code",
   "execution_count": null,
   "metadata": {},
   "outputs": [],
   "source": [
    "from dolfin import *\n",
    "\n",
    "# Create mesh\n",
    "mesh = UnitSquareMesh(32, 32)\n",
    "\n",
    "# Define finite elements spaces and build mixed space\n",
    "DRT = FiniteElement(\"DRT\", mesh.ufl_cell(), 2)\n",
    "CG  = FiniteElement(\"CG\", mesh.ufl_cell(), 3)\n",
    "W = FunctionSpace(mesh, DRT * CG)\n",
    "\n",
    "# Define trial and test functions\n",
    "(sigma, u) = TrialFunctions(W)\n",
    "(tau, v) = TestFunctions(W)\n",
    "\n",
    "# Define source functions\n",
    "f = Expression(\"10*exp(-(pow(x[0] - 0.5, 2) + pow(x[1] - 0.5, 2)) / 0.02)\", degree=2)\n",
    "g = Expression(\"sin(5.0*x[0])\", degree=2)\n",
    "\n",
    "# Define variational form\n",
    "a = (dot(sigma, tau) + dot(grad(u), tau) + dot(sigma, grad(v)))*dx\n",
    "L = - f*v*dx - g*v*ds\n",
    "\n",
    "# Define Dirichlet BC\n",
    "def boundary(x):\n",
    "    return x[0] < DOLFIN_EPS or x[0] > 1.0 - DOLFIN_EPS\n",
    "bc = DirichletBC(W.sub(1), 0.0, boundary)\n",
    "\n",
    "# Compute solution\n",
    "w = Function(W)\n",
    "solve(a == L, w, bc)\n",
    "(sigma, u) = w.split()\n",
    "\n",
    "# Plot sigma and u\n",
    "plot(sigma)\n",
    "plot(u)\n",
    "interactive()"
   ]
  },
  {
   "cell_type": "code",
   "execution_count": null,
   "metadata": {},
   "outputs": [],
   "source": [
    "# Save solution in VTK format\n",
    "file = File(\"dual-mixed-poisson.pvd\");\n",
    "file << u;"
   ]
  },
  {
   "cell_type": "code",
   "execution_count": null,
   "metadata": {},
   "outputs": [],
   "source": []
  }
 ],
 "metadata": {
  "hide_input": false,
  "kernelspec": {
   "display_name": "Python 3",
   "language": "python",
   "name": "python3"
  },
  "language_info": {
   "codemirror_mode": {
    "name": "ipython",
    "version": 3
   },
   "file_extension": ".py",
   "mimetype": "text/x-python",
   "name": "python",
   "nbconvert_exporter": "python",
   "pygments_lexer": "ipython3",
   "version": "3.5.3"
  },
  "toc": {
   "nav_menu": {},
   "number_sections": true,
   "sideBar": true,
   "skip_h1_title": false,
   "toc_cell": false,
   "toc_position": {},
   "toc_section_display": "block",
   "toc_window_display": false
  }
 },
 "nbformat": 4,
 "nbformat_minor": 2
}
