{
 "cells": [
  {
   "cell_type": "markdown",
   "metadata": {},
   "source": [
    "# Problem definition\n",
    "\n",
    "We wish to minimize\n",
    "$$ I(u,v) = \\frac{\\theta}{2} \\int_{\\omega} |\\nabla_s u + \\tfrac{1}{2} \\nabla v \\otimes \\nabla v|^{2} \\mathrm{d}x\n",
    "   + \\frac{1}{24} \\int_{\\omega} |\\nabla^2 v - \\mathrm{Id}|^{2} \\mathrm{d}x. $$\n",
    "\n",
    "Because we only have $C^0$ elements we set $z$ for $\\nabla v$ and minimize instead\n",
    "\n",
    "$$ J(u,z) = \\frac{\\theta}{2} \\int_{\\omega} |\\nabla_s u + \\tfrac{1}{2} z \\otimes z|^{2} \\mathrm{d}x \n",
    "          + \\frac{1}{24} \\int_{\\omega} |\\nabla z - \\mathrm{Id}|^{2} \\mathrm{d}x \n",
    "          + \\mu \\int_{\\omega} |\\mathrm{curl}\\ z|^{2} \\mathrm{d}x. $$\n",
    "\n",
    "We use a mixed function space $V \\times Z$ to recover the vertical displacements.\n",
    "Minimization of the energy functional $J$ is done via gradient descent and a line search."
   ]
  },
  {
   "cell_type": "markdown",
   "metadata": {},
   "source": [
    "# Implementation"
   ]
  },
  {
   "cell_type": "code",
   "execution_count": null,
   "metadata": {},
   "outputs": [],
   "source": [
    "from dolfin import *\n",
    "import os\n",
    "import mshr\n",
    "import numpy as np\n",
    "import matplotlib.pyplot as pl\n",
    "from time import time\n",
    "from tqdm import tqdm_notebook as tqdm\n",
    "from common import make_initial_data_mixed, circular_symmetry, save_results, generate_mesh"
   ]
  },
  {
   "cell_type": "code",
   "execution_count": null,
   "metadata": {},
   "outputs": [],
   "source": [
    "def run_model(init: str, qform: str, mesh_file: str, theta: float, mu: float = 1.0,\n",
    "              e_stop_mult: float = 1e-7, max_steps: int = 1000, save_funs: bool = True, n=0):\n",
    "    \"\"\"\n",
    "    \"\"\"\n",
    "\n",
    "    qform = qform.lower()\n",
    "\n",
    "    msh = Mesh(mesh_file)\n",
    "\n",
    "    t = tqdm(total=max_steps, desc='th=%7.2f' % theta, position=n, dynamic_ncols=True)\n",
    "\n",
    "    def noop(*args, **kwargs):\n",
    "        pass\n",
    "\n",
    "    def tout(s, **kwargs):\n",
    "        \"\"\" FIXME: Does not work as intended... \"\"\"\n",
    "        t.write(s, end='')\n",
    "\n",
    "    debug = noop\n",
    "    # debug = print\n",
    "\n",
    "    # in plane displacements (IPD)\n",
    "    UE = VectorElement(\"Lagrange\", msh.ufl_cell(), 2, dim=2)\n",
    "    # out of plane displacements (OPD)\n",
    "    VE = FiniteElement(\"Lagrange\", msh.ufl_cell(), 2)\n",
    "    # Gradients of OPD\n",
    "    ZE = VectorElement(\"Lagrange\", msh.ufl_cell(), 2, dim=2)\n",
    "    ME = MixedElement([UE, VE, ZE])\n",
    "    W = FunctionSpace(msh, ME)\n",
    "\n",
    "    # We gather in-plane and out-of-plane displacements into one\n",
    "    # Function for visualization with ParaView.\n",
    "    P = VectorFunctionSpace(msh, \"Lagrange\", 2, dim=3)\n",
    "    fax = FunctionAssigner(P.sub(0), W.sub(0).sub(0))\n",
    "    fay = FunctionAssigner(P.sub(1), W.sub(0).sub(1))\n",
    "    faz = FunctionAssigner(P.sub(2), W.sub(1))\n",
    "\n",
    "    disp = Function(P)\n",
    "    disp.rename(\"disp\", \"displacement\")\n",
    "\n",
    "    fname_prefix = \"%s-%s-%07.2f-%05.2f-\" % (init, qform, theta, mu)\n",
    "    dir = \"output-mixed/\" + fname_prefix.strip('-')\n",
    "    try:\n",
    "        os.mkdir(dir)\n",
    "    except:\n",
    "        pass\n",
    "\n",
    "    file_name = dir + \"/\" + fname_prefix + \".pvd\"\n",
    "    file = File(file_name)  # .vtu files will have the same prefix\n",
    "\n",
    "    w = Function(W)\n",
    "    w_ = Function(W)\n",
    "    u, v, z = w.split()\n",
    "    u_, v_, z_ = w_.split()\n",
    "\n",
    "    w_init = make_initial_data_mixed(init)\n",
    "    w.interpolate(w_init)\n",
    "    w_.interpolate(w_init)\n",
    "\n",
    "    if qform == 'frobenius':\n",
    "        Q2, L2 = frobenius_form()\n",
    "    elif qform == 'isotropic':\n",
    "        # Isotropic density for some material or other...\n",
    "        E, nu = 1e9, 0.3\n",
    "        Q2, L2 = isotropic_form(E * nu / ((1 + nu) * (1 - 2 * nu)), E / (2 + 2 * nu))\n",
    "    else:\n",
    "        raise Exception(\"Unknown quadratic form name '%s'\" % qform)\n",
    "\n",
    "    def eps(u):\n",
    "        return (grad(u) + grad(u).T) / 2.0\n",
    "\n",
    "    e_stop = msh.hmin() * e_stop_mult\n",
    "    max_line_search_steps = 20\n",
    "    step = 0\n",
    "    omega = 0.25  # Gradient descent fudge factor in (0, 1/2)\n",
    "    _hist = {'init': init, 'mu': mu, 'theta': theta, 'e_stop': e_stop,\n",
    "             'J': [], 'alpha': [], 'du': [], 'dv': [], 'dz': [], 'constraint': [],\n",
    "             'Q2': {'form_name': Q2.__name__, 'arguments': Q2.arguments},\n",
    "             'symmetry': [], 'file_name': file_name}\n",
    "\n",
    "    B = Identity(2)\n",
    "    zero_energy = assemble((1. / 24) * inner(B, B) * dx(msh))\n",
    "\n",
    "    def energy(u, v, z, mu=mu):\n",
    "        J = (theta / 2) * Q2(eps(u) + outer(grad(v), grad(v)) / 2) * dx(msh) \\\n",
    "            + (1. / 24) * Q2(grad(z) - Id) * dx(msh) \\\n",
    "            + (1. / 2) * mu * inner(z - grad(v), z - grad(v)) * dx(msh)\n",
    "        return assemble(J)\n",
    "\n",
    "    # CAREFUL!! Picking the right scalar product here is essential\n",
    "    # Recall the issues with boundary values: integrate partially\n",
    "    # and only boundary terms survive...\n",
    "    dtu, dtv, dtz = TrialFunctions(W)\n",
    "    phi, psi, eta = TestFunctions(W)\n",
    "    L = inner(dtu, phi) * dx + inner(grad(dtu), grad(phi)) * dx \\\n",
    "        + inner(dtv, psi) * dx + inner(grad(dtv), grad(psi)) * dx \\\n",
    "        + inner(dtz, eta) * dx + inner(grad(dtz), grad(eta)) * dx\n",
    "\n",
    "    dw = Function(W)\n",
    "    du, dv, dz = dw.split()\n",
    "\n",
    "    # Output initial condition\n",
    "    fax.assign(disp.sub(0), u.sub(0))\n",
    "    fay.assign(disp.sub(1), u.sub(1))\n",
    "    faz.assign(disp.sub(2), v)\n",
    "    file << (disp, float(step))\n",
    "\n",
    "    cur_energy = energy(u, v, z)\n",
    "    alpha = ndu = ndv = ndz = 1.0\n",
    "\n",
    "    debug(\"Solving with theta = %.2e, mu = %.2e, eps=%.2e for at most %d steps.\"\n",
    "          % (theta, mu, e_stop, max_steps))\n",
    "\n",
    "    # FIXME: check whether it makes sense to add ndz**2 here and below\n",
    "    begin = time()\n",
    "    while alpha * (ndu ** 2 + ndv ** 2 + ndz ** 2) > e_stop and step < max_steps:\n",
    "        _constraint = assemble(inner(grad(v_) - z_, grad(v_) - z_) * dx)\n",
    "        _symmetry = circular_symmetry(disp)\n",
    "        _hist['constraint'].append(_constraint)\n",
    "        _hist['symmetry'].append(_symmetry)\n",
    "        debug(\"Step %d, energy = %.3e, |grad v - z| = %.3e, symmetry = %.3f\"\n",
    "              % (step, cur_energy, _constraint, _symmetry))\n",
    "\n",
    "        #### Gradient\n",
    "        # for some reason I'm not able to use derivative(J, w_, dtw)\n",
    "        dJ = theta * L2(eps(u_) + outer(grad(v_), grad(v_)) / 2,\n",
    "                        eps(phi) + sym(outer(grad(v_), grad(psi)))) * dx(msh) \\\n",
    "             + (1. / 12) * L2(grad(z_) - Id, grad(eta)) * dx(msh) \\\n",
    "             + mu * inner(grad(v_) - z_, grad(psi) - eta) * dx(msh)\n",
    "\n",
    "        debug(\"\\tSolving...\", end='')\n",
    "        solve(L == -dJ, dw, [])\n",
    "\n",
    "        du, dv, dz = dw.split()\n",
    "        # dw is never reassigned to a new object so it should be ok\n",
    "        # to reuse du, dv without resplitting\n",
    "        ndu = norm(du)\n",
    "        ndv = norm(dv)\n",
    "        ndz = norm(dz)\n",
    "\n",
    "        debug(\" done with |du| = %.3f, |dv| = %.3f, |dz| = %.3f\" % (ndu, ndv, ndz))\n",
    "\n",
    "        #### Line search\n",
    "        debug(\"\\tSearching... \", end='')\n",
    "        while True:\n",
    "            w = project(w_ + alpha * dw, W)\n",
    "            u, v, z = w.split()\n",
    "            new_energy = energy(u, v, z)\n",
    "            if new_energy <= cur_energy - omega * alpha * (ndu ** 2 + ndv ** 2 + ndz ** 2):\n",
    "                debug(\" alpha = %.2e\" % alpha)\n",
    "                _hist['J'].append(cur_energy)\n",
    "                _hist['alpha'].append(alpha)\n",
    "                _hist['du'].append(ndu)\n",
    "                _hist['dv'].append(ndv)\n",
    "                _hist['dz'].append(ndz)\n",
    "                cur_energy = new_energy\n",
    "                alpha = min(1.0, 2.0 * alpha)  # Use a larger alpha for the next line search\n",
    "                break\n",
    "            if alpha < (1. / 2) ** max_line_search_steps:\n",
    "                # If this happens, it's unlikely that we had computed an actual gradient\n",
    "                raise Exception(\"Line search failed after %d steps\" % max_line_search_steps)\n",
    "            alpha /= 2.0  # Repeat with smaller alpha\n",
    "\n",
    "        step += 1\n",
    "\n",
    "        #### Write displacements to file\n",
    "        debug(\"\\tSaving... \", end='')\n",
    "        fax.assign(disp.sub(0), u.sub(0))\n",
    "        fay.assign(disp.sub(1), u.sub(1))\n",
    "        faz.assign(disp.sub(2), v)\n",
    "        file << (disp, float(step))\n",
    "        debug(\"Done.\")\n",
    "\n",
    "        w_.vector()[:] = w.vector()\n",
    "        u_, v_, z_ = w_.split()\n",
    "        t.update()\n",
    "\n",
    "    _hist['time'] = time() - begin\n",
    "\n",
    "    if step < max_steps:\n",
    "        t.total = step\n",
    "        t.update()\n",
    "\n",
    "    _hist['steps'] = step\n",
    "    if save_funs:\n",
    "        _hist['disp'] = disp\n",
    "        _hist['u'] = u\n",
    "        _hist['v'] = v\n",
    "        _hist['z'] = z\n",
    "        _hist['dtu'] = du\n",
    "        _hist['dtv'] = dv\n",
    "        _hist['dtz'] = dz\n",
    "    debug(\"Done after %d steps\" % step)\n",
    "\n",
    "    t.close()\n",
    "    return _hist"
   ]
  },
  {
   "cell_type": "markdown",
   "metadata": {},
   "source": [
    "For exploration in this notebook, we store outputs from different runs in a global array"
   ]
  },
  {
   "cell_type": "code",
   "execution_count": null,
   "metadata": {},
   "outputs": [],
   "source": [
    "if globals().get('history') is None:\n",
    "    history = []"
   ]
  },
  {
   "cell_type": "code",
   "execution_count": null,
   "metadata": {},
   "outputs": [],
   "source": [
    "parameters[\"form_compiler\"][\"optimize\"]     = True\n",
    "parameters[\"form_compiler\"][\"cpp_optimize\"] = True\n",
    "\n",
    "mesh_file = generate_mesh('circle', 18, 18)"
   ]
  },
  {
   "cell_type": "code",
   "execution_count": null,
   "metadata": {
    "scrolled": false
   },
   "outputs": [],
   "source": [
    "theta = 9.0\n",
    "_hist = run_model('ani_parab', mesh_file, theta=theta, mu=10.0,\n",
    "                  fname_prefix='ani-parab-%07.2f-' % theta,\n",
    "                  max_steps=2000, save_funs=True, e_stop_mult=1e-7)\n",
    "history.append(_hist)"
   ]
  },
  {
   "cell_type": "code",
   "execution_count": null,
   "metadata": {},
   "outputs": [],
   "source": [
    "save_results(history, \"results-mixed-combined.pickle\")"
   ]
  },
  {
   "cell_type": "markdown",
   "metadata": {},
   "source": [
    "# Results"
   ]
  },
  {
   "cell_type": "code",
   "execution_count": null,
   "metadata": {},
   "outputs": [],
   "source": [
    "%matplotlib inline\n",
    "from plots import *"
   ]
  },
  {
   "cell_type": "code",
   "execution_count": null,
   "metadata": {
    "scrolled": false
   },
   "outputs": [],
   "source": [
    "plots1(history[-1], slice(10,-1), 10)"
   ]
  },
  {
   "cell_type": "code",
   "execution_count": null,
   "metadata": {
    "scrolled": false
   },
   "outputs": [],
   "source": [
    "plots2(history[-1])"
   ]
  },
  {
   "cell_type": "markdown",
   "metadata": {},
   "source": [
    "# Exploring the range of $\\theta$"
   ]
  },
  {
   "cell_type": "markdown",
   "metadata": {},
   "source": [
    "With increasing $\\theta$ we expect the symmetry of the solution to be ever more violated until it is cylindrical rather than parabolic. However there seems to be no clear discontinuity. This can be due to \n",
    "\n",
    "* a poor criterion for symmetry (we are just taking the quotient of the principal axes)\n",
    "* solutions not being proper minima (gradient descent didn't converge to $\\epsilon_{\\text{stop}}$ precision)\n",
    "* ..."
   ]
  },
  {
   "cell_type": "code",
   "execution_count": null,
   "metadata": {},
   "outputs": [],
   "source": [
    "from tqdm import tqdm\n",
    "from joblib import Parallel, delayed\n",
    "\n",
    "theta_values = np.arange(0.0, 20.0, 1.0, dtype=float)\n",
    "# Careful: hyperthreading won't help (we are probably bound by memory channel bandwidth)\n",
    "n_jobs = min(2, len(theta_values))\n",
    "\n",
    "new_res = Parallel(n_jobs=n_jobs)(delayed(run_model)('ani_parab', theta=theta, mu=1.0,\n",
    "                                                     fname_prefix='ani-parab-%07.2f-' % theta, \n",
    "                                                     max_steps=10000, save_funs=False,\n",
    "                                                     e_stop_mult=1e-9, n=n) \n",
    "                                  for n, theta in enumerate(theta_values))\n",
    "\n",
    "save_results(new_res, \"results-mixed-combined.pickle\")"
   ]
  },
  {
   "cell_type": "code",
   "execution_count": null,
   "metadata": {},
   "outputs": [],
   "source": [
    "%matplotlib tk\n",
    "\n",
    "import matplotlib.pyplot as pl\n",
    "import pickle as pk\n",
    "\n",
    "with open(\"results-mixed-combined.pickle\", \"rb\") as f:\n",
    "    res = pk.load(f)"
   ]
  },
  {
   "cell_type": "markdown",
   "metadata": {},
   "source": [
    "Plot everything but runs prematurely stopped:"
   ]
  },
  {
   "cell_type": "code",
   "execution_count": null,
   "metadata": {},
   "outputs": [],
   "source": [
    "plots3({k:v for k, v in res.items() if v['steps'] not in [500, 2000] }, 0.0, 40.0)"
   ]
  },
  {
   "cell_type": "markdown",
   "metadata": {},
   "source": [
    "Plot data about some weird runs:"
   ]
  },
  {
   "cell_type": "code",
   "execution_count": null,
   "metadata": {},
   "outputs": [],
   "source": [
    "plots1(get_longest(res, 23), slice(50, -1), 40)"
   ]
  },
  {
   "cell_type": "code",
   "execution_count": null,
   "metadata": {},
   "outputs": [],
   "source": [
    "plots4([v for k, v in res.items() if 20 <= v['theta'] <= 25.0], slice(50, -1), 50)"
   ]
  }
 ],
 "metadata": {
  "hide_input": false,
  "kernelspec": {
   "display_name": "Python 3",
   "language": "python",
   "name": "python3"
  },
  "language_info": {
   "codemirror_mode": {
    "name": "ipython",
    "version": 3
   },
   "file_extension": ".py",
   "mimetype": "text/x-python",
   "name": "python",
   "nbconvert_exporter": "python",
   "pygments_lexer": "ipython3",
   "version": "3.5.3"
  },
  "toc": {
   "nav_menu": {
    "height": "132px",
    "width": "274px"
   },
   "number_sections": true,
   "sideBar": true,
   "skip_h1_title": false,
   "toc_cell": false,
   "toc_position": {},
   "toc_section_display": "block",
   "toc_window_display": false
  },
  "varInspector": {
   "cols": {
    "lenName": 16,
    "lenType": 16,
    "lenVar": 40
   },
   "kernels_config": {
    "python": {
     "delete_cmd_postfix": "",
     "delete_cmd_prefix": "del ",
     "library": "var_list.py",
     "varRefreshCmd": "print(var_dic_list())"
    },
    "r": {
     "delete_cmd_postfix": ") ",
     "delete_cmd_prefix": "rm(",
     "library": "var_list.r",
     "varRefreshCmd": "cat(var_dic_list()) "
    }
   },
   "types_to_exclude": [
    "module",
    "function",
    "builtin_function_or_method",
    "instance",
    "_Feature"
   ],
   "window_display": false
  }
 },
 "nbformat": 4,
 "nbformat_minor": 2
}
