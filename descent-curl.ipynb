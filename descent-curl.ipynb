{
 "cells": [
  {
   "cell_type": "markdown",
   "metadata": {},
   "source": [
    "# Problem definition\n",
    "\n",
    "We wish to minimize\n",
    "$$ I(u,v) = \\frac{\\theta}{2} \\int_{\\omega} |\\nabla_s u + \\tfrac{1}{2} \\nabla v \\otimes \\nabla v|^{2} \\mathrm{d}x\n",
    "   + \\frac{1}{24} \\int_{\\omega} |\\nabla^2 v - \\mathrm{Id}|^{2} \\mathrm{d}x. $$\n",
    "\n",
    "Because we only have $C^0$ elements we minimize instead\n",
    "\n",
    "$$ J(u,v) = \\frac{\\theta}{2} \\int_{\\omega} |\\nabla_s u + \\tfrac{1}{2} v \\otimes v|^{2} \\mathrm{d}x \n",
    "          + \\frac{1}{24} \\int_{\\omega} |\\nabla v - \\mathrm{Id}|^{2} \\mathrm{d}x \n",
    "          + \\frac{\\mu}{2} \\int_{\\omega} |\\mathrm{curl}\\ v|^{2} \\mathrm{d}x, $$\n",
    "\n",
    "then recover the vertical displacements (up to a constant) by minimizing\n",
    "\n",
    "$$ F(p,q) = \\tfrac{1}{2} || \\nabla p - q ||^2 + \\tfrac{1}{2} || q - v ||^2. $$\n",
    "\n",
    "This we do by solving the linear problem $D F = 0$.\n",
    "\n",
    "Minimization of the energy is done via gradient descent and a line search."
   ]
  },
  {
   "cell_type": "code",
   "execution_count": null,
   "metadata": {
    "collapsed": true
   },
   "outputs": [],
   "source": [
    "from dolfin import *\n",
    "import mshr\n",
    "import numpy as np\n",
    "import matplotlib.pyplot as pl\n",
    "%matplotlib inline\n",
    "\n",
    "parameters[\"form_compiler\"][\"optimize\"]     = True\n",
    "parameters[\"form_compiler\"][\"cpp_optimize\"] = True"
   ]
  },
  {
   "cell_type": "code",
   "execution_count": null,
   "metadata": {},
   "outputs": [],
   "source": [
    "def compute_potential(v: Function, U: FunctionSpace) -> Function:\n",
    "    \"\"\" Takes a gradient and computes its potential (up to a constant)\n",
    "    Note that we would need to set Dirichlet conditions on the\n",
    "    potential to fix the constant.\n",
    "\n",
    "    Arguments\n",
    "    ---------\n",
    "        v: gradient\n",
    "        U: space for the potential\n",
    "    \"\"\"\n",
    "    msh = v.function_space().mesh()\n",
    "    PE = U.ufl_element()\n",
    "    QE = v.function_space().ufl_element()\n",
    "    W = FunctionSpace(msh, PE*QE)\n",
    "\n",
    "    class GradientsBoundary(SubDomain):\n",
    "        def inside(self, x, on_boundary):\n",
    "            return on_boundary\n",
    "    class ValuesBoundary(SubDomain):\n",
    "        def inside(self, x, on_boundary):\n",
    "            return False\n",
    "\n",
    "    bcP = DirichletBC(W.sub(0), Constant(0.0), ValuesBoundary())  # void...\n",
    "    bcQ = DirichletBC(W.sub(1), v, GradientsBoundary())\n",
    "    p, q = TrialFunctions(W)\n",
    "    phi, psi = TestFunctions(W)\n",
    "    a = inner(grad(p) - q, grad(phi))*dx - inner(grad(p) - q, psi)*dx + inner(q, psi)*dx\n",
    "    L = inner(v, psi)*dx\n",
    "    w = Function(W)\n",
    "    solve(a == L, w, [bcP, bcQ])\n",
    "\n",
    "    ret = Function(U)\n",
    "    fa = FunctionAssigner(U, W.sub(0))\n",
    "    fa.assign(ret, w.sub(0))\n",
    "    #ret = w.sub(0, deepcopy=True)\n",
    "    ret.rename(\"pot\", \"potential\")    \n",
    "    return ret\n",
    "\n",
    "def test_potential(eps=1e-6):\n",
    "    print(\"Testing potential (with integration constant hack)... \", end='')\n",
    "    msh = UnitSquareMesh(10, 10)\n",
    "    U = FunctionSpace(msh, \"Lagrange\", 3)\n",
    "    u = interpolate(Expression((\"x[0]*x[0] + x[1]*x[1]\"), element=U.ufl_element()), U)\n",
    "    V = VectorFunctionSpace(msh, \"Lagrange\", 2, dim=2)    \n",
    "    v = interpolate(Expression((\"2*x[0]\", \"2*x[1]\"), element=V.ufl_element()), V)\n",
    "    p = compute_potential(v, U)\n",
    "    \n",
    "    # HACK: fix the integration constant \n",
    "    hack = norm(project(u - p, U))\n",
    "    p = project(p + Constant(hack), U)\n",
    "    test1 = project(u - p, U)\n",
    "    test2 = project(v - grad(p), V)\n",
    "    print(\"OK.\" if norm(test1) < eps and norm(test2) < eps else \"FAILED.\")"
   ]
  },
  {
   "cell_type": "code",
   "execution_count": null,
   "metadata": {
    "collapsed": true
   },
   "outputs": [],
   "source": [
    "domain = mshr.Circle(Point(0.0,0.0), 1, 20)\n",
    "msh = mshr.generate_mesh(domain, 20)"
   ]
  },
  {
   "cell_type": "code",
   "execution_count": null,
   "metadata": {
    "collapsed": true
   },
   "outputs": [],
   "source": [
    "class InitialDisplacements(Expression):     \n",
    "    def eval(self, values, x):\n",
    "        values[0] = 0.0\n",
    "        values[1] = 0.0\n",
    "        values[2] = 0.3*x[0]\n",
    "        values[3] = x[1]\n",
    "    def value_shape(self):\n",
    "        return (4,)\n",
    "\n",
    "class DirichletBoundary(SubDomain):\n",
    "    def inside(self, x, on_boundary):\n",
    "        return False\n",
    "        #return near(x[0], 0.0) and near(x[1], 0.0)\n",
    "        #return near(x[0], 0.0) and -0.5 <= x[1] and x[1] <= -0.5+msh.hmin()*1.1 and on_boundary\n",
    "        #return near(x[0], 0.0) or near(x[1], -0.5) and on_boundary"
   ]
  },
  {
   "cell_type": "markdown",
   "metadata": {},
   "source": [
    "We store outputs from different runs in a global array"
   ]
  },
  {
   "cell_type": "code",
   "execution_count": null,
   "metadata": {
    "collapsed": true
   },
   "outputs": [],
   "source": [
    "if locals().get('history') is None:\n",
    "    history = []"
   ]
  },
  {
   "cell_type": "markdown",
   "metadata": {},
   "source": [
    "In plane displacements and gradient of out of plane displacements form a mixed function space. We also have another scalar space where to project the potential for the out of plane displacements"
   ]
  },
  {
   "cell_type": "code",
   "execution_count": null,
   "metadata": {},
   "outputs": [],
   "source": [
    "UE = VectorElement(\"Lagrange\", msh.ufl_cell(), 2, dim=2)        # in plane displacements (IPD)\n",
    "VE = VectorElement(\"Lagrange\", msh.ufl_cell(), 2, dim=2)        # Gradients of out of plane displacements (OPD)\n",
    "W = FunctionSpace(msh, UE*VE)\n",
    "V = FunctionSpace(msh, \"Lagrange\", 2)                           # will store out of plane displacements\n",
    "\n",
    "bcU = DirichletBC(W.sub(0), Constant((0.0, 0.0)), DirichletBoundary())\n",
    "bcV = DirichletBC(W.sub(1), Constant((0.0, 0.0)), DirichletBoundary())"
   ]
  },
  {
   "cell_type": "markdown",
   "metadata": {},
   "source": [
    "We gather in-plane and out-of-plane displacements into one function for visualization with ParaView."
   ]
  },
  {
   "cell_type": "code",
   "execution_count": null,
   "metadata": {
    "collapsed": true
   },
   "outputs": [],
   "source": [
    "P = VectorFunctionSpace(msh, \"Lagrange\", 2, dim=3)\n",
    "fax = FunctionAssigner(P.sub(0), W.sub(0).sub(0))\n",
    "fay = FunctionAssigner(P.sub(1), W.sub(0).sub(1))\n",
    "faz = FunctionAssigner(P.sub(2), V)\n",
    "\n",
    "disp = Function(P)\n",
    "disp.rename(\"disp\", \"displacement\")"
   ]
  },
  {
   "cell_type": "code",
   "execution_count": null,
   "metadata": {
    "scrolled": true
   },
   "outputs": [],
   "source": [
    "file = File(\"descent-curl.pvd\")\n",
    "\n",
    "w = Function(W)\n",
    "w_ = Function(W)\n",
    "u, v  = w.split()\n",
    "u_, v_ = w_.split()\n",
    "\n",
    "w_init = InitialDisplacements(degree=1)\n",
    "w.interpolate(w_init)\n",
    "w_.interpolate(w_init)\n",
    "\n",
    "def eps(u):\n",
    "    return (grad(u) + grad(u).T)/2.0\n",
    "\n",
    "e_stop = msh.hmin()*1e-6\n",
    "max_steps = 400\n",
    "max_line_search_steps = 20\n",
    "step = 0\n",
    "tau = 1        # Maximal step size\n",
    "omega = 0.25   # Gradient descent fudge factor in (0, 1/2)\n",
    "mu = 1e4\n",
    "theta = 1.0e2\n",
    "_hist = {'mu': mu, 'theta': theta, 'e_stop' : e_stop,\n",
    "         'J':[], 'alpha':[], 'du':[], 'dv':[]}\n",
    "\n",
    "Id = Identity(2)\n",
    "zero_energy = assemble((1./24)*inner(Id, Id)*dx(msh))\n",
    "def energy(u, v, mu=mu):\n",
    "    J = (theta/2)*inner(eps(u)+outer(v, v)/2, eps(u)+outer(v, v)/2)*dx(msh) \\\n",
    "        + (1./24)*inner(grad(v) - Id, grad(v) - Id)*dx(msh) \\\n",
    "        + mu*inner(curl(v), curl(v))*dx(msh)\n",
    "    return assemble(J)\n",
    "\n",
    "phi, psi = TestFunctions(W)\n",
    "# CAREFUL!! Picking the right scalar product here is essential\n",
    "# Recall the issues with boundary values: integrate partially and only boundary terms survive...\n",
    "#dtu, dtv = TrialFunctions(W)\n",
    "#L = inner(grad(dtu), grad(phi))*dx(msh) + inner(grad(dtv), grad(psi))*dx(msh)\n",
    "dtw = TrialFunction(W)\n",
    "z = TestFunction(W)\n",
    "L = inner(dtw, z)*dx+inner(grad(dtw), grad(z))*dx\n",
    "\n",
    "dw = Function(W)\n",
    "du, dv = dw.split()\n",
    "\n",
    "# Output initial condition\n",
    "opd = compute_potential(v, V)\n",
    "fax.assign(disp.sub(0), u.sub(0))\n",
    "fay.assign(disp.sub(1), u.sub(1))\n",
    "faz.assign(disp.sub(2), opd)\n",
    "file << (disp, float(step))\n",
    "\n",
    "cur_energy = energy(u, v)\n",
    "alpha = tau\n",
    "ndu = ndv = 1.0\n",
    "\n",
    "print(\"Solving with theta = %.3e, mu = %.3e, for at most %d steps.\" % (theta, mu, max_steps))\n",
    "while alpha*(ndu**2+ndv**2) > e_stop and step < max_steps:\n",
    "    print(\"Step %d, energy = %.3e, curl = %.3e\" % (step, cur_energy, assemble(curl(v_)*dx)))\n",
    "    \n",
    "    dJ = theta*inner(eps(u_)+outer(v_, v_)/2, eps(phi))*dx(msh) \\\n",
    "        + theta*inner(eps(u_)+outer(v_, v_)/2, outer(v_, psi))*dx(msh) \\\n",
    "        + (1./12)*inner(grad(v_)-Id, grad(psi))*dx(msh) \\\n",
    "        + 2*mu*inner(curl(v_), curl(psi))*dx(msh)\n",
    "\n",
    "    print(\"\\tSolving...\", end='')\n",
    "    solve(L == -dJ, dw, [bcU, bcV])\n",
    "    \n",
    "    # dw is never reassigned to a new object so it's ok to reuse du, dv without splitting\n",
    "    ndu = norm(du)\n",
    "    ndv = norm(dv)\n",
    "    \n",
    "    print(\" done with |du| = %.3f, |dv| = %.3f\" % (ndu, ndv))\n",
    "\n",
    "    # line search\n",
    "    new_energy = 0\n",
    "    #alpha = tau\n",
    "    print(\"\\tSearching... \", end='')\n",
    "    while True:\n",
    "        w = project(w_ + alpha*dw, W)\n",
    "        u, v = w.split()\n",
    "        new_energy = energy(u, v)\n",
    "        if new_energy <= cur_energy - omega*alpha*(ndu**2+ndv**2):\n",
    "            print(\" alpha = %e\" % alpha)\n",
    "            _hist['J'].append(cur_energy)\n",
    "            _hist['alpha'].append(alpha)\n",
    "            _hist['du'].append(ndu)\n",
    "            _hist['dv'].append(ndv)\n",
    "            cur_energy = new_energy\n",
    "            alpha /= 0.5  # Use a larger alpha for the next main iteration\n",
    "            break\n",
    "        if alpha < (1./2)**max_line_search_steps:\n",
    "            raise Exception(\"Line search failed after %d steps\" % max_line_search_steps)\n",
    "        alpha *= 0.5  # Repeat with smaller alpha\n",
    "\n",
    "    step += 1\n",
    "\n",
    "    opd = compute_potential(v, V)\n",
    "    fax.assign(disp.sub(0), u.sub(0))\n",
    "    fay.assign(disp.sub(1), u.sub(1))\n",
    "    faz.assign(disp.sub(2), opd)\n",
    "    file << (disp, float(step))\n",
    "\n",
    "    w_.vector()[:] = w.vector()\n",
    "    u_, v_ = w_.split()\n",
    "\n",
    "print(\"Done after %d steps\" % step)"
   ]
  },
  {
   "cell_type": "code",
   "execution_count": null,
   "metadata": {
    "collapsed": true
   },
   "outputs": [],
   "source": [
    "_hist['steps'] = step\n",
    "_hist['u'] = u\n",
    "_hist['v'] = v\n",
    "_hist['dtu'] = du\n",
    "_hist['dtv'] = dv\n",
    "history.append(_hist)"
   ]
  },
  {
   "cell_type": "markdown",
   "metadata": {},
   "source": [
    "## History"
   ]
  },
  {
   "cell_type": "code",
   "execution_count": null,
   "metadata": {},
   "outputs": [],
   "source": [
    "pl.figure(figsize=(18,8))\n",
    "pl.subplot(2,2,1)\n",
    "pl.plot(history[-1]['du'])\n",
    "pl.title('$d_{t}u$')\n",
    "pl.subplot(2,2,2)\n",
    "pl.plot(history[-1]['dv'])\n",
    "pl.title('$d_{t}v$')\n",
    "pl.subplot(2,2,3)\n",
    "pl.plot(np.log(history[-1]['alpha'][1:]))\n",
    "pl.title('$log\\ \\\\alpha_t$')\n",
    "pl.subplot(2,2,4)\n",
    "pl.plot(history[-1]['J'])\n",
    "pl.title(\"Energy\")\n",
    "print(\"Last run: theta = %.2e, mu = %.2e\" % (history[-1]['theta'], history[-1]['mu']))"
   ]
  },
  {
   "cell_type": "markdown",
   "metadata": {},
   "source": [
    "## Solution and last update"
   ]
  },
  {
   "cell_type": "code",
   "execution_count": null,
   "metadata": {},
   "outputs": [],
   "source": [
    "pl.figure(figsize=(18,18))\n",
    "pl.subplot(2,2,1)\n",
    "plot(history[-1]['u'], title=\"$u_{\\\\theta}$ at last timestep, norm = %.2e\" % norm(history[-1]['u']))\n",
    "pl.subplot(2,2,2)\n",
    "plot(history[-1]['v'], title=\"$v_{\\\\theta}$ at last timestep, norm = %.2e\" % norm(history[-1]['v']))\n",
    "pl.subplot(2,2,3)\n",
    "plot(history[-1]['dtu'], title=\"$du_{\\\\theta}$ at last timestep, norm = %.2e\" % norm(history[-1]['dtu']))\n",
    "pl.subplot(2,2,4)\n",
    "_ = plot(history[-1]['dtv'], title=\"$dv_{\\\\theta}$ at last timestep, norm = %.2e\" % norm(history[-1]['dtv']))"
   ]
  },
  {
   "cell_type": "markdown",
   "metadata": {
    "collapsed": true
   },
   "source": [
    "# Mixed out-of-plane displacements (FIXME)"
   ]
  },
  {
   "cell_type": "code",
   "execution_count": null,
   "metadata": {
    "collapsed": true,
    "scrolled": false
   },
   "outputs": [],
   "source": [
    "class InitialDisplacements(Expression):     \n",
    "    def eval(self, values, x):\n",
    "        values[0] = 0.0\n",
    "        values[1] = -x[1]/10.0\n",
    "        values[2] = 0.5*x[0]**2*(1-x[0])**2*sin(4*DOLFIN_PI*x[1])\n",
    "        values[3] = x[0]*(1-x[0])*(1-2*x[0])*sin(4*DOLFIN_PI*x[1])\n",
    "        values[4] = 2*DOLFIN_PI*x[0]**2*(1-x[0])**2*cos(4*DOLFIN_PI*x[1])\n",
    "    def value_shape(self):\n",
    "        return (5,)\n",
    "\n",
    "msh = RectangleMesh(Point(0.0, -0.5), Point(1.0, 0.5), 20, 20)\n",
    "\n",
    "UE = VectorElement(\"Lagrange\", msh.ufl_cell(), 1, dim=2)        # in plane displacements (IPD)\n",
    "VE = FiniteElement(\"Lagrange\", msh.ufl_cell(), 1)\n",
    "VVE = VectorElement(\"Lagrange\", msh.ufl_cell(), 1, dim=2)        # Gradients of out of plane displacements (OPD)\n",
    "ME = MixedElement([UE, VE, VVE])\n",
    "W = FunctionSpace(msh, ME)\n",
    "\n",
    "bc = DirichletBC(W, Expression((\"0.0\", \"-x[1]/10\", \"0.0\", \"0.0\", \"0.0\"), element=ME),\n",
    "                 DirichletBoundary())\n",
    "w = Function(W)\n",
    "w_ = Function(W)\n",
    "u, d, v  = w.split()\n",
    "u_, d_, v_ = w_.split()\n",
    "\n",
    "w_init = InitialDisplacements(degree=1)\n",
    "w.interpolate(w_init)\n",
    "w_.interpolate(w_init)\n",
    "\n",
    "def eps(u):\n",
    "    return (grad(u) + grad(u).T)/2.0\n",
    "\n",
    "e_stop = msh.hmin()*1e-4\n",
    "\n",
    "file = File(\"steepest-descent-grad.pvd\")\n",
    "\n",
    "mu = Constant(1e4)\n",
    "Id = Identity(2)\n",
    "\n",
    "zero_energy = assemble((1./24)*inner(Id, Id)*dx(msh))\n",
    "def energy(u, d, v, mu=mu):\n",
    "    J = (1./2)*inner(eps(u)+outer(v, v)/2, eps(u)+outer(v, v)/2)*dx \\\n",
    "        + (1./24)*inner(grad(v) - Id, grad(v) - Id)*dx \\\n",
    "        + (1./2)*mu*inner(v, v)*dx \\\n",
    "        + (1./2)*mu*inner(v - grad(d), v - grad(d))*dx\n",
    "        \n",
    "    return assemble(J)\n",
    "\n",
    "phi, eta, psi = TestFunctions(W)\n",
    "\n",
    "dtz = TrialFunction(W)\n",
    "z = TestFunction(W)\n",
    "L = inner(dtz, z)*dx\n",
    "\n",
    "dw = Function(W)\n",
    "du, dd, dv = dw.split()\n",
    "step = 0\n",
    "max_line_steps = 30\n",
    "tau = 1\n",
    "omega = 0.25  # fudge factor\n",
    "\n",
    "cur_energy = energy(u, d, v)\n",
    "\n",
    "alpha = ndu = ndd = ndv = 1.0\n",
    "history = {'J':[], 'alpha':[]}\n",
    "\n",
    "while alpha*(ndu**2+ndd**2+ndv**2) > e_stop and step < 100:\n",
    "    print(\"Step %d, energy = %.3e, curl = %.3e\" % (step, cur_energy, assemble(curl(w.sub(2))*dx)))\n",
    "    dJ = inner(eps(u_) + outer(v_, v_)/2, eps(phi))*dx \\\n",
    "        + inner(eps(u_) + outer(v_, v_)/2, outer(v_, psi))*dx \\\n",
    "        + (1./12)*inner(grad(v_)-Id, grad(psi))*dx \\\n",
    "        + mu*inner(v_, psi)*dx \\\n",
    "        + mu*inner(v_ - grad(d_), phi)*dx + mu*inner(v_ - grad(d_), grad(eta))*dx\n",
    "\n",
    "    print(\"\\tSolving...\", end='')\n",
    "    solve(L == -dJ, dw, bc)\n",
    "    \n",
    "    # dw is not assigned to a new object so it's ok to reuse du, dd, dv without splitting\n",
    "    ndu = norm(du)\n",
    "    ndd = norm(dd)\n",
    "    ndv = norm(dv)\n",
    "    \n",
    "    print(\" done with |du| = %.3f, |dd| = %.3f, |dv| = %.3f\" % (ndu, ndd, ndv), end='')\n",
    "\n",
    "    # line search\n",
    "    new_energy = 0\n",
    "    alpha = tau\n",
    "    while True:\n",
    "        w = project(w_ + alpha*dw, W)\n",
    "        u, d, v = w.split()\n",
    "        new_energy = energy(u, d, v)\n",
    "        #print(\"New energy: %e, alpha = %.2e\" % (new_energy, alpha))\n",
    "        if new_energy <= cur_energy - omega*alpha*(ndu**2+ndd**2+ndv**2):\n",
    "            print(\", alpha = %e\" % alpha)\n",
    "            history['J'].append(cur_energy)\n",
    "            history['alpha'].append(alpha)\n",
    "            cur_energy = new_energy\n",
    "            break\n",
    "        if alpha < (1./2)**max_line_steps:\n",
    "            raise Exception(\"Line search failed after %d steps\" % max_line_steps)\n",
    "        alpha *= 0.5\n",
    "    w.rename(\"disp\", \"displacement\")\n",
    "    file << (w.split()[0], float(step))\n",
    "    file << (w.split()[1], float(step))\n",
    "    \n",
    "    w_.vector()[:] = w.vector()\n",
    "    u_, d_, v_ = w_.split()\n",
    "\n",
    "    step += 1"
   ]
  },
  {
   "cell_type": "code",
   "execution_count": null,
   "metadata": {
    "collapsed": true
   },
   "outputs": [],
   "source": []
  }
 ],
 "metadata": {
  "hide_input": false,
  "kernelspec": {
   "display_name": "Python 3",
   "language": "python",
   "name": "python3"
  },
  "language_info": {
   "codemirror_mode": {
    "name": "ipython",
    "version": 3
   },
   "file_extension": ".py",
   "mimetype": "text/x-python",
   "name": "python",
   "nbconvert_exporter": "python",
   "pygments_lexer": "ipython3",
   "version": "3.5.2"
  },
  "toc": {
   "nav_menu": {
    "height": "132px",
    "width": "274px"
   },
   "number_sections": true,
   "sideBar": true,
   "skip_h1_title": false,
   "toc_cell": false,
   "toc_position": {},
   "toc_section_display": "block",
   "toc_window_display": false
  },
  "varInspector": {
   "cols": {
    "lenName": 16,
    "lenType": 16,
    "lenVar": 40
   },
   "kernels_config": {
    "python": {
     "delete_cmd_postfix": "",
     "delete_cmd_prefix": "del ",
     "library": "var_list.py",
     "varRefreshCmd": "print(var_dic_list())"
    },
    "r": {
     "delete_cmd_postfix": ") ",
     "delete_cmd_prefix": "rm(",
     "library": "var_list.r",
     "varRefreshCmd": "cat(var_dic_list()) "
    }
   },
   "types_to_exclude": [
    "module",
    "function",
    "builtin_function_or_method",
    "instance",
    "_Feature"
   ],
   "window_display": false
  }
 },
 "nbformat": 4,
 "nbformat_minor": 2
}
