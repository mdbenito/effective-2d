{
 "cells": [
  {
   "cell_type": "markdown",
   "metadata": {},
   "source": [
    "# Problem definition\n",
    "\n",
    "We wish to minimize\n",
    "\n",
    "$$ I(u,v) = \\frac{\\theta}{2} \\int_{\\omega} Q_2(\\nabla_s u + \\tfrac{1}{2} \\nabla v \\otimes \\nabla v) \\mathrm{d}x\n",
    "   + \\frac{1}{24} \\int_{\\omega} Q_2(\\nabla^2 v - B) \\mathrm{d}x, $$\n",
    "\n",
    "with $B \\in \\mathbb{R}^{2 \\times 2}$, e.g. the identity matrix, and $Q_2$ a quadratic form, e.g. (isotropic material):\n",
    "\n",
    "$$ Q_2 (F) = 2 \\mu | \\operatorname{sym} F |^2 + \\frac{2 \\mu \\lambda}{2 \\mu + \\lambda}\n",
    "   \\operatorname{tr}^2 F, \\quad F \\in \\mathbb{R}^{2 \\times 2}, $$\n",
    "\n",
    "or, for a specific choice of constants, the simpler $Q_2(F) = |F|^2$.\n",
    "  \n",
    "We work in $P_1$ with the constraints of zero mean and zero mean antisymmetric gradient. Because we only have $C^0$ elements we set $z$ for $\\nabla v$ and minimize instead\n",
    "\n",
    "$$ J(u,z) = \\frac{\\theta}{2} \\int_{\\omega} Q_2(\\nabla_s u + \\tfrac{1}{2} z \\otimes z) \\mathrm{d}x \n",
    "          + \\frac{1}{24} \\int_{\\omega} Q_2\\nabla z - B) \\mathrm{d}x \n",
    "          + \\mu \\int_{\\omega} |\\mathrm{curl}\\ z|^{2} \\mathrm{d}x, $$\n",
    "\n",
    "then recover the vertical displacements (up to a constant) by minimizing\n",
    "\n",
    "$$ F(p,q) = \\tfrac{1}{2} || \\nabla p - q ||^2 + \\tfrac{1}{2} || q - z ||^2. $$\n",
    "\n",
    "This we do by solving the linear problem $D F = 0$.\n",
    "\n",
    "Minimization of the energy functional $J$ is done via gradient descent and a line search. In particular, at each timestep we compute $d_t w \\in W $ such that for all $\\tau \\in W$:\n",
    "\n",
    "$$ (d_t w, \\tau)_{H^1_0 \\times H^2_0} = -DJ(w_t)[\\tau] $$\n",
    "\n",
    "Note that it is essential to use the full scalar product (or the one corresponding to the seminorms? check this) or we run into issues at the boundaries (to see this start with zero displacements and integrate by parts).(Also: the proper Riesz representative will only be obtained with correct scalar product).\n",
    "\n",
    "A decoupled gradient descent in each component does not work, probably because the functional is not separately convex (see Bartels' book, p. 110, remark (iv)).\n",
    "\n",
    "In plane displacements and gradients of out of plane displacements form a mixed function space $U \\times Z$. We also have another scalar space $V$ where the potential of the out of plane gradients lives. The model is defined and solved in `run_model()`."
   ]
  },
  {
   "cell_type": "markdown",
   "metadata": {},
   "source": [
    "# Exploring the range of $\\theta$"
   ]
  },
  {
   "cell_type": "code",
   "execution_count": null,
   "metadata": {},
   "outputs": [],
   "source": [
    "%matplotlib inline\n",
    "import numpy as np\n",
    "import matplotlib.pyplot as pl\n",
    "from incense import ExperimentLoader\n",
    "\n",
    "loader = ExperimentLoader(mongo_uri='mongo:27017', db_name='lvk')"
   ]
  },
  {
   "cell_type": "markdown",
   "metadata": {},
   "source": [
    "Experiments can be searched by single config key, sorted and inspected:"
   ]
  },
  {
   "cell_type": "code",
   "execution_count": null,
   "metadata": {},
   "outputs": [],
   "source": [
    "ee = sorted(loader.find_by_config_key(\"theta\", 490), key=lambda e: e.id)\n",
    "[e.config['projection'] for e in ee if e.config['init'] == 'zero']"
   ]
  },
  {
   "cell_type": "markdown",
   "metadata": {},
   "source": [
    "We want to query by multiple fields:"
   ]
  },
  {
   "cell_type": "code",
   "execution_count": null,
   "metadata": {},
   "outputs": [],
   "source": [
    "def find_by_config_keys(loader, _name=None, _status=None, **kwargs):\n",
    "    \"\"\" Assembles a mongo query to filter results by multiple config keys simultaneously. \"\"\"\n",
    "    terms = []\n",
    "    if _status:\n",
    "        terms.append({\"status\": _status})\n",
    "    if _name:\n",
    "        terms.append({\"experiment.name\": _name})\n",
    "    query = {\"$and\": terms}\n",
    "    for k, v in kwargs.items():\n",
    "        k = 'config.' + k\n",
    "        terms.append({k: v})\n",
    "    return loader.find(query)"
   ]
  },
  {
   "cell_type": "markdown",
   "metadata": {},
   "source": [
    "We assemble a list of experiments related by initial condition, mesh type and whether projections onto constraint spaces are made or not:"
   ]
  },
  {
   "cell_type": "code",
   "execution_count": null,
   "metadata": {},
   "outputs": [],
   "source": [
    "def average_last(ss):\n",
    "    return ss[-10:].mean()\n",
    "\n",
    "#inits = [\"zero\", \"ani_parab\", \"ani_compression\"]\n",
    "#mesh_types = [\"circle\", \"rectangle\"]\n",
    "#projections = [True, False]\n",
    "name = \"fine mesh, mu-with-theta\"\n",
    "inits = [\"ani_parab\"]\n",
    "mesh_types = [\"circle\"]\n",
    "projections = [True]\n",
    "\n",
    "results = []\n",
    "labels = []\n",
    "for init in inits:\n",
    "    for mesh_type in mesh_types:\n",
    "        for projection in projections:            \n",
    "            experiments = find_by_config_keys(loader, _name=name, _status=\"COMPLETED\",\n",
    "                                              init=init, mesh_type=mesh_type,\n",
    "                                              projection=projection)\n",
    "            try:\n",
    "                res = experiments.project(on=[\"config.theta\",\n",
    "                                              \"config.mu_scale\",\n",
    "                                              {\"metrics.J\": average_last,\n",
    "                                              \"metrics.symmetry\": average_last,\n",
    "                                              \"metrics.constraint\": average_last,\n",
    "                                              \"metrics.Kxx\": average_last,\n",
    "                                              \"metrics.Kxy\": average_last,\n",
    "                                              \"metrics.Kyy\": average_last,\n",
    "                                              \"metrics.alpha\": len}])\n",
    "            except KeyError:\n",
    "                continue\n",
    "            projection_label = \"proj\" if projection else \"no-proj\"\n",
    "            labels.append(\"_\".join((init, mesh_type, projection_label)))\n",
    "            print(\"Collected %d experiments in %s\" % (len(res), labels[-1]))\n",
    "\n",
    "            # HACK: there is probably a better way of counting (and I could use df.rename())\n",
    "            res['steps'] = res['alpha_len']\n",
    "            del res['alpha_len']\n",
    "\n",
    "            res = res.sort_values(by=['theta'])\n",
    "            results.append(res)"
   ]
  },
  {
   "cell_type": "code",
   "execution_count": null,
   "metadata": {},
   "outputs": [],
   "source": [
    "m = 0\n",
    "fs = 22"
   ]
  },
  {
   "cell_type": "code",
   "execution_count": null,
   "metadata": {},
   "outputs": [],
   "source": [
    "pl.figure(figsize=(16, 11))\n",
    "for res, label in zip(results, labels):\n",
    "    n = len(res)\n",
    "    #n = np.searchsorted(res['theta'], 70)\n",
    "    pl.plot(res['theta'][m:n], res['symmetry_average_last'][m:n], marker='.', label=label)\n",
    "#pl.hlines(1, res['theta'][m:n].min(), res['theta'][m:n].max(), colors='r', linestyles=\"dotted\", )\n",
    "pl.xlabel('$\\\\theta$', fontsize=fs)\n",
    "pl.ylabel('Symmetry', fontsize=fs)\n",
    "#pl.legend(fontsize=fs-4)\n",
    "pl.tick_params(axis='both', which='major', labelsize=fs)\n",
    "pl.savefig('theta-symmetry.eps')"
   ]
  },
  {
   "cell_type": "code",
   "execution_count": null,
   "metadata": {
    "scrolled": false
   },
   "outputs": [],
   "source": [
    "pl.figure(figsize=(16,11))\n",
    "for res, label in zip(results, labels):\n",
    "    n = len(res)\n",
    "    #n = np.searchsorted(res['theta'], 25)\n",
    "    label = \"\" #\"-\" + label\n",
    "    pl.plot(res['theta'][m:n], res['Kxx_average_last'][m:n], marker='.', linewidth=3, label=\"$K_{xx}$\" + label)\n",
    "    pl.plot(res['theta'][m:n], res['Kyy_average_last'][m:n], marker='.', linewidth=3, label=\"$K_{yy}$\" + label)\n",
    "    #pl.plot(res['theta'][m:n], res['Kxy_average_last'][m:n], marker='.', label=\"$K_{xy}$-\"+label)\n",
    "    \n",
    "pl.xlabel('$\\\\theta$', fontsize=fs)\n",
    "#pl.ylabel('difference in curvature (%)', fontsize=fs)\n",
    "pl.ylabel('Principal strains', fontsize=fs)\n",
    "pl.legend(fontsize=fs-4)\n",
    "pl.tick_params(axis='both', which='major', labelsize=fs)\n",
    "pl.savefig('theta-strains.eps')"
   ]
  },
  {
   "cell_type": "markdown",
   "metadata": {},
   "source": [
    "With increasing $\\theta$ we expect the symmetry of the solution to be ever more violated until it is cylindrical rather than parabolic. We see a sharp increase around $\\theta = 78$. Note that this could mean little since\n",
    "* We use a poor criterion for symmetry (we are just taking the quotient of the principal axes)\n",
    "* Used solutions are not necessarily minima (gradient descent might not converge to $\\epsilon_{\\text{stop}}$ precision)\n",
    "* ..."
   ]
  },
  {
   "cell_type": "code",
   "execution_count": null,
   "metadata": {},
   "outputs": [],
   "source": [
    "pl.figure(figsize=(16, 11))\n",
    "for res, label in zip(results, labels):\n",
    "    n = len(res)\n",
    "    #m = np.searchsorted(res['theta'], 25)\n",
    "    #n = np.searchsorted(res['theta'], 200)\n",
    "    pl.plot(res['theta'][m:n], res['constraint_average_last'][m:n]*1e4, marker='.', label=label)\n",
    "#pl.plot(res['theta'][:n], res['mu_scale'][:n], marker='x', label='$\\mu_\\epsilon scale$')\n",
    "pl.hlines(0, res['theta'][m:n].min(), res['theta'][m:n].max(), colors='r', linestyles=\"dotted\")\n",
    "pl.xlabel('$\\\\theta$', fontsize=fs)\n",
    "pl.ylabel('$|curl|*10^4$', fontsize=fs)\n",
    "#pl.legend(fontsize=fs-4)\n",
    "pl.tick_params(axis='both', which='major', labelsize=fs)\n",
    "pl.savefig('theta-curl.eps')"
   ]
  },
  {
   "cell_type": "code",
   "execution_count": null,
   "metadata": {},
   "outputs": [],
   "source": [
    "pl.figure(figsize=(16,11))\n",
    "for res, label in zip(results, labels):\n",
    "    n = len(res)\n",
    "    pl.plot(res['theta'][m:n], res['steps'][m:n], marker='.', label=label)\n",
    "pl.xlabel('$\\\\theta$', fontsize=fs)\n",
    "pl.ylabel('Num. steps', fontsize=fs)\n",
    "pl.legend(fontsize=fs-4)\n",
    "pl.tick_params(axis='both', which='major', labelsize=fs)"
   ]
  },
  {
   "cell_type": "markdown",
   "metadata": {},
   "source": [
    "## Some DB query examples"
   ]
  },
  {
   "cell_type": "markdown",
   "metadata": {},
   "source": [
    "Careful!! `find_by_key` interprets strings as regexes!!!"
   ]
  },
  {
   "cell_type": "code",
   "execution_count": null,
   "metadata": {},
   "outputs": [],
   "source": [
    "#exps = loader.find({\"$and\": [{\"config.theta\": {\"$lt\": 20}}, {\"experiment.name\": \"mu-with-theta\"}]})\n",
    "exps = loader.find_by_key(\"experiment.name\", \"^descent-curl-old$\")\n",
    "print(len(exps))"
   ]
  },
  {
   "cell_type": "code",
   "execution_count": null,
   "metadata": {},
   "outputs": [],
   "source": [
    "for e in exps:\n",
    "    e.delete(confirmed=True) # confirmed=True to skip confirmation"
   ]
  },
  {
   "cell_type": "code",
   "execution_count": null,
   "metadata": {},
   "outputs": [],
   "source": []
  }
 ],
 "metadata": {
  "hide_input": false,
  "kernelspec": {
   "display_name": "Python 3",
   "language": "python",
   "name": "python3"
  },
  "language_info": {
   "codemirror_mode": {
    "name": "ipython",
    "version": 3
   },
   "file_extension": ".py",
   "mimetype": "text/x-python",
   "name": "python",
   "nbconvert_exporter": "python",
   "pygments_lexer": "ipython3",
   "version": "3.5.2"
  },
  "toc": {
   "nav_menu": {
    "height": "132px",
    "width": "274px"
   },
   "number_sections": true,
   "sideBar": true,
   "skip_h1_title": false,
   "toc_cell": false,
   "toc_position": {},
   "toc_section_display": "block",
   "toc_window_display": false
  },
  "varInspector": {
   "cols": {
    "lenName": 16,
    "lenType": 16,
    "lenVar": 40
   },
   "kernels_config": {
    "python": {
     "delete_cmd_postfix": "",
     "delete_cmd_prefix": "del ",
     "library": "var_list.py",
     "varRefreshCmd": "print(var_dic_list())"
    },
    "r": {
     "delete_cmd_postfix": ") ",
     "delete_cmd_prefix": "rm(",
     "library": "var_list.r",
     "varRefreshCmd": "cat(var_dic_list()) "
    }
   },
   "types_to_exclude": [
    "module",
    "function",
    "builtin_function_or_method",
    "instance",
    "_Feature"
   ],
   "window_display": false
  }
 },
 "nbformat": 4,
 "nbformat_minor": 2
}
