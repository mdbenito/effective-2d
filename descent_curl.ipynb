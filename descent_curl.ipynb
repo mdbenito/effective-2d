{
 "cells": [
  {
   "cell_type": "markdown",
   "metadata": {},
   "source": [
    "# Problem definition\n",
    "\n",
    "We wish to minimize\n",
    "$$ I(u,v) = \\frac{\\theta}{2} \\int_{\\omega} |\\nabla_s u + \\tfrac{1}{2} \\nabla v \\otimes \\nabla v|^{2} \\mathrm{d}x\n",
    "   + \\frac{1}{24} \\int_{\\omega} |\\nabla^2 v - \\mathrm{Id}|^{2} \\mathrm{d}x. $$\n",
    "\n",
    "Because we only have $C^0$ elements we set $z$ for $\\nabla v$ and minimize instead\n",
    "\n",
    "$$ J(u,z) = \\frac{\\theta}{2} \\int_{\\omega} |\\nabla_s u + \\tfrac{1}{2} z \\otimes z|^{2} \\mathrm{d}x \n",
    "          + \\frac{1}{24} \\int_{\\omega} |\\nabla z - \\mathrm{Id}|^{2} \\mathrm{d}x \n",
    "          + \\mu \\int_{\\omega} |\\mathrm{curl}\\ z|^{2} \\mathrm{d}x, $$\n",
    "\n",
    "then recover the vertical displacements (up to a constant) by minimizing\n",
    "\n",
    "$$ F(p,q) = \\tfrac{1}{2} || \\nabla p - q ||^2 + \\tfrac{1}{2} || q - z ||^2. $$\n",
    "\n",
    "This we do by solving the linear problem $D F = 0$.\n",
    "\n",
    "Minimization of the energy functional $J$ is done via gradient descent and a line search. In particular, at each timestep we compute $d_t w \\in W $ such that for all $\\tau \\in W$:\n",
    "\n",
    "$$ (d_t w, \\tau)_{H^1_0 \\times H^2_0} = -DJ(w_t)[\\tau] $$\n",
    "\n",
    "Note that the it is essential to use the full scalar product (or the one corresponding to the seminorms? check this) or we run into issues at the boundaries (to see this start with zero displacements and integrate by parts).(Also: the proper Riesz representative will only be obtained with correct scalar product).\n",
    "\n",
    "A decoupled gradient descent in each component does not work, probably because the functional is not separately convex (see Bartels' book, p. 110, remark (iv)).\n",
    "\n",
    "In plane displacements and gradients of out of plane displacements form a mixed function space $U \\times Z$. We also have another scalar space $V$ where the potential of the out of plane gradients lives. The model is defined and solved in `run_model()` below. Experiments can be easily run in parallel with `joblib`.\n",
    "\n",
    "Another quadratic form (isotropic material):\n",
    "\n",
    "$$ Q_2 (F) = 2 \\mu | \\operatorname{sym} F |^2 + \\frac{2 \\mu \\lambda}{2 \\mu + \\lambda}\n",
    "   \\operatorname{tr}^2 F, \\quad F \\in \\mathbb{R}^{2 \\times 2} . $$"
   ]
  },
  {
   "cell_type": "code",
   "execution_count": null,
   "metadata": {},
   "outputs": [],
   "source": [
    "from dolfin import *\n",
    "import os\n",
    "import mshr\n",
    "import numpy as np\n",
    "import matplotlib.pyplot as pl\n",
    "from time import time\n",
    "from tqdm import tqdm_notebook as tqdm\n",
    "from common import *"
   ]
  },
  {
   "cell_type": "code",
   "execution_count": null,
   "metadata": {},
   "outputs": [],
   "source": [
    "def run_model(init: str, qform: str, mesh_file: str, theta: float, mu: float = 0.0,\n",
    "              e_stop_mult: float = 1e-5, max_steps: int = 400, save_funs: bool = True, n=0):\n",
    "    \"\"\"\n",
    "    \"\"\"\n",
    "\n",
    "    qform = qform.lower()\n",
    "\n",
    "    msh = Mesh(mesh_file)\n",
    "\n",
    "    t = tqdm(total=max_steps, desc='th=% 8.3f' % theta, position=n, dynamic_ncols=True)\n",
    "\n",
    "    def noop(*args, **kwargs):\n",
    "        pass\n",
    "\n",
    "    def tout(s, **kwargs):\n",
    "        \"\"\" FIXME: Does not work as intended... \"\"\"\n",
    "        t.write(s, end='')\n",
    "\n",
    "    debug = noop\n",
    "    # debug = print\n",
    "\n",
    "    # in plane displacements (IPD)\n",
    "    UE = VectorElement(\"Lagrange\", msh.ufl_cell(), 2, dim=2)\n",
    "    # Gradients of out of plane displacements (OPD)\n",
    "    VE = VectorElement(\"Lagrange\", msh.ufl_cell(), 2, dim=2)\n",
    "    W = FunctionSpace(msh, UE * VE)\n",
    "    # will store out of plane displacements\n",
    "    V = FunctionSpace(msh, \"Lagrange\", 2)\n",
    "\n",
    "    # We gather in-plane and out-of-plane displacements into one\n",
    "    # Function for visualization with ParaView.\n",
    "    P = VectorFunctionSpace(msh, \"Lagrange\", 2, dim=3)\n",
    "    fax = FunctionAssigner(P.sub(0), W.sub(0).sub(0))\n",
    "    fay = FunctionAssigner(P.sub(1), W.sub(0).sub(1))\n",
    "    faz = FunctionAssigner(P.sub(2), V)\n",
    "\n",
    "    disp = Function(P)\n",
    "    disp.rename(\"disp\", \"displacement\")\n",
    "\n",
    "    file_name = make_filename('curl', init, qform, theta, mu, create_dir=True)\n",
    "    file = File(file_name)  # .vtu files will have the same prefix\n",
    "\n",
    "    w = Function(W)\n",
    "    w_ = Function(W)\n",
    "    u, v = w.split()\n",
    "    u_, v_ = w_.split()\n",
    "\n",
    "    w_init = make_initial_data_penalty(init)\n",
    "    w.interpolate(w_init)\n",
    "    w_.interpolate(w_init)\n",
    "\n",
    "    if qform == 'frobenius':\n",
    "        Q2, L2 = frobenius_form()\n",
    "    elif qform == 'isotropic':\n",
    "        # Isotropic density for steel at room temp.\n",
    "        # E is in GPa. Is it ok to use these units? Setting it to 210e9\n",
    "        # breaks things (line searches don't end) because we need to scale\n",
    "        # elastic constants with h\n",
    "        E, nu = 210.0, 0.3\n",
    "        Q2, L2 = isotropic_form(E * nu / ((1 + nu) * (1 - 2 * nu)), E / (2 + 2 * nu))\n",
    "    else:\n",
    "        raise Exception(\"Unknown quadratic form name '%s'\" % qform)\n",
    "\n",
    "    def eps(u):\n",
    "        return (grad(u) + grad(u).T) / 2.0\n",
    "\n",
    "    e_stop = msh.hmin() * e_stop_mult\n",
    "    max_line_search_steps = 20\n",
    "    step = 0\n",
    "    omega = 0.25  # Gradient descent fudge factor in (0, 1/2)\n",
    "    _hist = {'init': init, 'impl': 'curl', 'mu': mu, 'theta': theta, 'e_stop': e_stop,\n",
    "             'J': [], 'alpha': [], 'du': [], 'dv': [], 'constraint': [],\n",
    "             'Q2': {'form_name': Q2.__name__, 'arguments': Q2.arguments},\n",
    "             'symmetry': [], 'file_name': file_name}\n",
    "\n",
    "    B = Identity(2)\n",
    "    zero_energy = assemble((1. / 24) * inner(B, B) * dx(msh))\n",
    "\n",
    "    def energy(u, v, mu=mu):\n",
    "        J = (theta / 2.) * Q2(eps(u) + outer(v, v) / 2) * dx(msh) \\\n",
    "            + (1. / 24) * Q2(grad(v) - B) * dx(msh) \\\n",
    "            + mu * inner(curl(v), curl(v)) * dx(msh)\n",
    "        return assemble(J)\n",
    "\n",
    "    # CAREFUL!! Picking the right scalar product here is essential\n",
    "    # Recall the issues with boundary values: integrate partially and only boundary terms survive...\n",
    "    dtu, dtv = TrialFunctions(W)\n",
    "    phi, psi = TestFunctions(W)\n",
    "    L = inner(dtu, phi) * dx + inner(grad(dtu), grad(phi)) * dx \\\n",
    "        + inner(dtv, psi) * dx + inner(grad(dtv), grad(psi)) * dx\n",
    "\n",
    "    dw = Function(W)\n",
    "    du, dv = dw.split()\n",
    "\n",
    "    # Output initial condition\n",
    "    opd = compute_potential(v, V)\n",
    "    fax.assign(disp.sub(0), u.sub(0))\n",
    "    fay.assign(disp.sub(1), u.sub(1))\n",
    "    faz.assign(disp.sub(2), opd)\n",
    "    file << (disp, float(step))\n",
    "\n",
    "    cur_energy = energy(u, v)\n",
    "    alpha = ndu = ndv = 1.0\n",
    "\n",
    "    debug(\"Solving with theta = %.2e, mu = %.2e, eps=%.2e for at most %d steps.\"\n",
    "          % (theta, mu, e_stop, max_steps))\n",
    "\n",
    "    begin = time()\n",
    "    while alpha * (ndu ** 2 + ndv ** 2) > e_stop and step < max_steps:\n",
    "        _curl = assemble(curl(v_) * dx)\n",
    "        _symmetry = circular_symmetry(disp)\n",
    "        _hist['constraint'].append(_curl)\n",
    "        _hist['symmetry'].append(_symmetry)\n",
    "        debug(\"Step %d, energy = %.3e, curl = %.3e, symmetry = %.3f\"\n",
    "              % (step, cur_energy, _curl, _symmetry))\n",
    "\n",
    "        #### Gradient\n",
    "        # for some reason I'm not able to use derivative(J, w_, dtw)\n",
    "        dJ = theta * L2(eps(u_) + outer(v_, v_) / 2,\n",
    "                        eps(phi) + sym(outer(v_, psi))) * dx(msh) \\\n",
    "             + (1. / 12) * L2(grad(v_) - B, grad(psi)) * dx(msh) \\\n",
    "             + 2 * mu * inner(curl(v_), curl(psi)) * dx(msh)\n",
    "\n",
    "        debug(\"\\tSolving...\", end='')\n",
    "        solve(L == -dJ, dw, [])\n",
    "\n",
    "        du, dv = dw.split()\n",
    "        # dw is never reassigned to a new object so it's ok\n",
    "        # to reuse du, dv without resplitting\n",
    "        ndu = norm(du)\n",
    "        ndv = norm(dv)\n",
    "\n",
    "        debug(\" done with |du| = %.3f, |dv| = %.3f\" % (ndu, ndv))\n",
    "\n",
    "        #### Line search\n",
    "        new_energy = 0\n",
    "        debug(\"\\tSearching... \", end='')\n",
    "        while True:\n",
    "            w = project(w_ + alpha * dw, W)\n",
    "            u, v = w.split()\n",
    "            new_energy = energy(u, v)\n",
    "            if new_energy <= cur_energy - omega * alpha * (ndu ** 2 + ndv ** 2):\n",
    "                debug(\" alpha = %.2e\" % alpha)\n",
    "                _hist['J'].append(cur_energy)\n",
    "                _hist['alpha'].append(alpha)\n",
    "                _hist['du'].append(ndu)\n",
    "                _hist['dv'].append(ndv)\n",
    "                cur_energy = new_energy\n",
    "                alpha = min(1.0, 2.0 * alpha)  # Use a larger alpha for the next line search\n",
    "                break\n",
    "            if alpha < (1. / 2) ** max_line_search_steps:\n",
    "                raise Exception(\"Line search failed after %d steps\" % max_line_search_steps)\n",
    "            alpha /= 2.0  # Repeat with smaller alpha\n",
    "\n",
    "        step += 1\n",
    "\n",
    "        #### Write displacements to file\n",
    "        debug(\"\\tSaving... \", end='')\n",
    "        opd = compute_potential(v, V)\n",
    "        fax.assign(disp.sub(0), u.sub(0))\n",
    "        fay.assign(disp.sub(1), u.sub(1))\n",
    "        faz.assign(disp.sub(2), opd)\n",
    "        file << (disp, float(step))\n",
    "        debug(\"Done.\")\n",
    "\n",
    "        w_.vector()[:] = w.vector()\n",
    "        u_, v_ = w_.split()\n",
    "        t.update()\n",
    "\n",
    "    _hist['time'] = time() - begin\n",
    "\n",
    "    if step < max_steps:\n",
    "        t.total = step\n",
    "        t.update()\n",
    "\n",
    "    _hist['steps'] = step\n",
    "    if save_funs:\n",
    "        _hist['disp'] = disp\n",
    "        _hist['u'] = u\n",
    "        _hist['v'] = v\n",
    "        _hist['dtu'] = du\n",
    "        _hist['dtv'] = dv\n",
    "    debug(\"Done after %d steps\" % step)\n",
    "\n",
    "    t.close()\n",
    "    return _hist\n"
   ]
  },
  {
   "cell_type": "markdown",
   "metadata": {},
   "source": [
    "For exploration in this notebook, we store outputs from different runs in a global array"
   ]
  },
  {
   "cell_type": "code",
   "execution_count": null,
   "metadata": {},
   "outputs": [],
   "source": [
    "if globals().get('history') is None:\n",
    "    history = []"
   ]
  },
  {
   "cell_type": "code",
   "execution_count": null,
   "metadata": {
    "scrolled": true
   },
   "outputs": [],
   "source": [
    "parameters[\"form_compiler\"][\"optimize\"]     = True\n",
    "parameters[\"form_compiler\"][\"cpp_optimize\"] = True\n",
    "\n",
    "mesh_file = generate_mesh('circle', 18, 18)\n",
    "theta = 10.0\n",
    "\n",
    "_hist = run_model('ani_parab', mesh_file, theta=theta, mu=0.0,\n",
    "                  max_steps=10000, save_funs=True, e_stop_mult=1e-7)\n",
    "\n",
    "history.append(_hist)"
   ]
  },
  {
   "cell_type": "markdown",
   "metadata": {},
   "source": [
    "# Results"
   ]
  },
  {
   "cell_type": "code",
   "execution_count": null,
   "metadata": {
    "scrolled": false
   },
   "outputs": [],
   "source": [
    "plots1(history[-1], slice(0,-1))"
   ]
  },
  {
   "cell_type": "markdown",
   "metadata": {},
   "source": [
    "# Solution and last update"
   ]
  },
  {
   "cell_type": "code",
   "execution_count": null,
   "metadata": {},
   "outputs": [],
   "source": [
    "plots2(history[-1])"
   ]
  },
  {
   "cell_type": "markdown",
   "metadata": {},
   "source": [
    "# Exploring the range of $\\theta$"
   ]
  },
  {
   "cell_type": "code",
   "execution_count": null,
   "metadata": {},
   "outputs": [],
   "source": [
    "from tqdm import tqdm\n",
    "from joblib import Parallel, delayed\n",
    "\n",
    "theta_values = np.arange(0.0, 100.0, 1.0, dtype=float)\n",
    "# Careful: hyperthreading won't help (we are probably bound by memory r/w)\n",
    "n_jobs = min(11, len(theta_values))\n",
    "\n",
    "new_res = Parallel(n_jobs=n_jobs)(delayed(run_model)('ani_parab', theta=theta, mu=0.0,\n",
    "                                                     max_steps=2000, save_funs=False,\n",
    "                                                     e_stop_mult=1e-6, n=n) \n",
    "                                  for n, theta in enumerate(theta_values))\n",
    "\n",
    "save_results(new_res, \"results-combined.pickle\")"
   ]
  },
  {
   "cell_type": "markdown",
   "metadata": {},
   "source": [
    "With increasing $\\theta$ we expect the symmetry of the solution to be ever more violated until it is cylindrical rather than parabolic. However there seems to be no clear discontinuity. This can be due to \n",
    "\n",
    "* a poor criterion for symmetry (we are just taking the quotient of the principal axes)\n",
    "* solutions not being proper minima (gradient descent didn't converge to $\\epsilon_{\\text{stop}}$ precision)\n",
    "* ..."
   ]
  },
  {
   "cell_type": "code",
   "execution_count": null,
   "metadata": {},
   "outputs": [],
   "source": [
    "%matplotlib tk\n",
    "from plots import *\n",
    "\n",
    "import matplotlib.pyplot as pl\n",
    "import pickle as pk\n",
    "\n",
    "with open(\"results-curl-combined.pickle\", \"rb\") as f:\n",
    "    res = pk.load(f)\n",
    "\n",
    "from common import *\n",
    "import os"
   ]
  },
  {
   "cell_type": "code",
   "execution_count": null,
   "metadata": {},
   "outputs": [],
   "source": [
    "with open(\"results-curl-combined.pickle\", \"wb\") as f:\n",
    "    pk.dump(res, f)"
   ]
  },
  {
   "cell_type": "markdown",
   "metadata": {},
   "source": [
    "Filter runs prematurely stopped and with high values of $\\epsilon_{\\text{stop}}$."
   ]
  },
  {
   "cell_type": "code",
   "execution_count": null,
   "metadata": {},
   "outputs": [],
   "source": [
    "all_eps = set(v['e_stop'] for k, v in res.items())\n",
    "\n",
    "fres = {k:v for k, v in res.items() if v['e_stop'] == min(all_eps)}\n",
    "fres2 = {k:v for k, v in fres.items() if v['steps'] not in [500, 2000] }"
   ]
  },
  {
   "cell_type": "code",
   "execution_count": null,
   "metadata": {},
   "outputs": [],
   "source": [
    "plots3(fres, 0, 1000)"
   ]
  },
  {
   "cell_type": "markdown",
   "metadata": {},
   "source": [
    "Plot data about some weird runs:"
   ]
  },
  {
   "cell_type": "code",
   "execution_count": null,
   "metadata": {},
   "outputs": [],
   "source": [
    "plots1(get_longest(fres, 8.7), slice(10, -1), 20)"
   ]
  },
  {
   "cell_type": "code",
   "execution_count": null,
   "metadata": {},
   "outputs": [],
   "source": [
    "plots4(filter_results(fres, theta=(8,9)), slice(20, -1), 20)"
   ]
  },
  {
   "cell_type": "markdown",
   "metadata": {},
   "source": [
    "# A simple report\n",
    "\n",
    "This uses [yattag](http://www.yattag.org) for the html generation. The report itself depends on [Footable](http://fooplugins.github.io/FooTable/index.html), which uses jQuery and FontAwesome. This is all quite unnecessary."
   ]
  },
  {
   "cell_type": "code",
   "execution_count": null,
   "metadata": {},
   "outputs": [],
   "source": [
    "from yattag import Doc, indent\n",
    "\n",
    "\n",
    "def make_report(res:dict):\n",
    "    doc, tag, text, line = Doc().ttl()\n",
    "\n",
    "    doc.asis('<!DOCTYPE html>')\n",
    "    with tag('html', lang='en'):\n",
    "        with tag('head'):\n",
    "            line('title', 'Results')\n",
    "            line('meta', '', charset='utf-8')\n",
    "            line('link', '', rel='stylesheet', href='css/footable.standalone.min.css')\n",
    "            line('link', '', rel='stylesheet', href='css/font-awesome.min.css')\n",
    "        with tag('body'):\n",
    "            with tag('table', ('data-sorting', 'true'), ('data-filtering', 'true'), ('data-show-toggle', 'false'),\n",
    "                     klass=\"table\"):\n",
    "                with tag('thead'):\n",
    "                    with tag('tr'):\n",
    "                        line('th', 'form_name')\n",
    "                        line('th', 'init')\n",
    "                        line('th', 'theta', ('data-type', 'number'))\n",
    "                        line('th', 'mu', ('data-type', 'number'))\n",
    "                        line('th', 'eps magn.', ('data-type', 'number'))\n",
    "                        line('th', 'steps', ('data-type', 'number'))\n",
    "                        line('th', 'duration', ('data-type', 'time'))\n",
    "                        line('th', 'plot', ('data-type', 'html'))\n",
    "                        line('th', 'results', ('data-type', 'html'),\n",
    "                             ('data-breakpoints', 'all'), ('data-title', 'results file:'))\n",
    "                        line('th', 'form arguments',\n",
    "                             ('data-breakpoints', 'all'), ('data-title', 'form arguments:'))\n",
    "                with tag('tbody'):\n",
    "                    for k, v in res.items():\n",
    "                        with tag('tr'):\n",
    "                            line('td', v['Q2']['form_name'])\n",
    "                            line('td', v['init'])\n",
    "                            line('td', v['theta'])\n",
    "                            line('td', v['mu'])\n",
    "                            line('td', int(np.log10(v['e_stop'])))\n",
    "                            line('td', v['steps'])\n",
    "                            tt = max(0, v['time'])\n",
    "                            hh = np.floor(tt/3600)\n",
    "                            mm = np.floor((tt - hh*3600)/60)\n",
    "                            ss = np.floor((tt - hh*3600 - mm*60))\n",
    "                            line('td', \"%02d:%02d:%02d\" % (hh, mm, ss))\n",
    "                            with tag('td'):\n",
    "                                line('a', 'plot', href='../%s' % v['plots1_fname'])\n",
    "                            line('td', v['file_name'])\n",
    "                            line('td', str(v['Q2']['arguments']))\n",
    "            line('script', '', src='js/jquery-3.2.1.min.js')\n",
    "            line('script', '', src='js/footable.min.js')\n",
    "            with tag('script'):\n",
    "                doc.asis(\"jQuery(function($){$('.table').footable();});\")\n",
    "    with open(\"report/index.html\", \"wt\") as fd:\n",
    "        fd.write(indent(doc.getvalue()))"
   ]
  },
  {
   "cell_type": "code",
   "execution_count": null,
   "metadata": {},
   "outputs": [],
   "source": [
    "make_report(res)"
   ]
  },
  {
   "cell_type": "code",
   "execution_count": null,
   "metadata": {},
   "outputs": [],
   "source": [
    "plots4(filter_results(res, theta=(20,25)), slice(50, -1), 50)"
   ]
  }
 ],
 "metadata": {
  "hide_input": false,
  "kernelspec": {
   "display_name": "Python 3",
   "language": "python",
   "name": "python3"
  },
  "language_info": {
   "codemirror_mode": {
    "name": "ipython",
    "version": 3
   },
   "file_extension": ".py",
   "mimetype": "text/x-python",
   "name": "python",
   "nbconvert_exporter": "python",
   "pygments_lexer": "ipython3",
   "version": "3.5.3"
  },
  "toc": {
   "nav_menu": {
    "height": "132px",
    "width": "274px"
   },
   "number_sections": true,
   "sideBar": true,
   "skip_h1_title": false,
   "toc_cell": false,
   "toc_position": {},
   "toc_section_display": "block",
   "toc_window_display": false
  },
  "varInspector": {
   "cols": {
    "lenName": 16,
    "lenType": 16,
    "lenVar": 40
   },
   "kernels_config": {
    "python": {
     "delete_cmd_postfix": "",
     "delete_cmd_prefix": "del ",
     "library": "var_list.py",
     "varRefreshCmd": "print(var_dic_list())"
    },
    "r": {
     "delete_cmd_postfix": ") ",
     "delete_cmd_prefix": "rm(",
     "library": "var_list.r",
     "varRefreshCmd": "cat(var_dic_list()) "
    }
   },
   "types_to_exclude": [
    "module",
    "function",
    "builtin_function_or_method",
    "instance",
    "_Feature"
   ],
   "window_display": false
  }
 },
 "nbformat": 4,
 "nbformat_minor": 2
}
