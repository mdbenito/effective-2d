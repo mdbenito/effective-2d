{
 "cells": [
  {
   "cell_type": "markdown",
   "metadata": {},
   "source": [
    "# Problem definition\n",
    "\n",
    "We wish to minimize\n",
    "$$ I(u,v) = \\frac{\\theta}{2} \\int_{\\omega} |\\nabla_s u + \\tfrac{1}{2} \\nabla v \\otimes \\nabla v|^{2} \\mathrm{d}x\n",
    "   + \\frac{1}{24} \\int_{\\omega} |\\nabla^2 v - \\mathrm{Id}|^{2} \\mathrm{d}x. $$\n",
    "\n",
    "Because we only have $C^0$ elements we set $z$ for $\\nabla v$ and minimize instead\n",
    "\n",
    "$$ J(u,z) = \\frac{\\theta}{2} \\int_{\\omega} |\\nabla_s u + \\tfrac{1}{2} z \\otimes z|^{2} \\mathrm{d}x \n",
    "          + \\frac{1}{24} \\int_{\\omega} |\\nabla z - \\mathrm{Id}|^{2} \\mathrm{d}x \n",
    "          + \\mu \\int_{\\omega} |\\mathrm{curl}\\ z|^{2} \\mathrm{d}x, $$\n",
    "\n",
    "then recover the vertical displacements (up to a constant) by minimizing\n",
    "\n",
    "$$ F(p,q) = \\tfrac{1}{2} || \\nabla p - q ||^2 + \\tfrac{1}{2} || q - z ||^2. $$\n",
    "\n",
    "This we do by solving the linear problem $D F = 0$.\n",
    "\n",
    "Minimization of the energy functional $J$ is done via gradient descent and a line search. In particular, at each timestep we compute $d_t w \\in W $ such that for all $\\tau \\in W$:\n",
    "\n",
    "$$ (d_t w, \\tau)_{H^1_0 \\times H^2_0} = -DJ(w_t)[\\tau] $$\n",
    "\n",
    "Note that the it is essential to use the full scalar product (or the one corresponding to the seminorms? check this) or we run into issues at the boundaries (to see this start with zero displacements and integrate by parts).(Also: the proper Riesz representative will only be obtained with correct scalar product).\n",
    "\n",
    "A decoupled gradient descent in each component does not work, probably because the functional is not separately convex (see Bartels' book, p. 110, remark (iv)).\n",
    "\n",
    "In plane displacements and gradients of out of plane displacements form a mixed function space $U \\times Z$. We also have another scalar space $V$ where the potential of the out of plane gradients lives. The model is defined and solved in `run_model()` below. Experiments can be easily run in parallel with `joblib`.\n",
    "\n",
    "Another quadratic form (isotropic material):\n",
    "\n",
    "$$ Q_2 (F) = 2 \\mu | \\operatorname{sym} F |^2 + \\frac{2 \\mu \\lambda}{2 \\mu + \\lambda}\n",
    "   \\operatorname{tr}^2 F, \\quad F \\in \\mathbb{R}^{2 \\times 2} . $$"
   ]
  },
  {
   "cell_type": "code",
   "execution_count": null,
   "metadata": {},
   "outputs": [],
   "source": [
    "from dolfin import *\n",
    "import os\n",
    "import mshr\n",
    "import numpy as np\n",
    "import matplotlib.pyplot as pl\n",
    "from time import time\n",
    "from tqdm import tqdm_notebook as tqdm\n",
    "from common import *"
   ]
  },
  {
   "cell_type": "code",
   "execution_count": null,
   "metadata": {},
   "outputs": [],
   "source": [
    "def run_model(init:str, mesh_file:str, theta:float, mu:float = 0.0,\n",
    "              e_stop_mult:float=1e-5, max_steps:int=400, save_funs:bool=True, n=0):\n",
    "    \"\"\"\n",
    "    \"\"\"\n",
    "    \n",
    "    msh = Mesh(mesh_file)\n",
    "\n",
    "    t = tqdm(total=max_steps, desc='th=% 7.2f' % theta, position=n, dynamic_ncols=True)\n",
    "    \n",
    "    #debug = print\n",
    "    def noop(*args, **kwargs):\n",
    "        pass\n",
    "    def tout(s, **kwargs):\n",
    "        \"\"\" FIXME: Does not work as intended... \"\"\"\n",
    "        t.write(s, end='')\n",
    "    debug = noop\n",
    "    \n",
    "    # in plane displacements (IPD)\n",
    "    UE = VectorElement(\"Lagrange\", msh.ufl_cell(), 2, dim=2)\n",
    "    # Gradients of out of plane displacements (OPD)\n",
    "    VE = VectorElement(\"Lagrange\", msh.ufl_cell(), 2, dim=2)\n",
    "    W = FunctionSpace(msh, UE*VE)\n",
    "    # will store out of plane displacements\n",
    "    V = FunctionSpace(msh, \"Lagrange\", 2)\n",
    "    \n",
    "    #class DirichletBoundary(SubDomain): \n",
    "    #    def inside(self, x, on_boundary):\n",
    "    #        return False\n",
    "    #bcU = DirichletBC(W.sub(0), Constant((0.0, 0.0)), DirichletBoundary()) \n",
    "    #bcV = DirichletBC(W.sub(1), Constant((0.0, 0.0)), DirichletBoundary())\n",
    "    \n",
    "    # We gather in-plane and out-of-plane displacements into one\n",
    "    # Function for visualization with ParaView.\n",
    "    P = VectorFunctionSpace(msh, \"Lagrange\", 2, dim=3)\n",
    "    fax = FunctionAssigner(P.sub(0), W.sub(0).sub(0))\n",
    "    fay = FunctionAssigner(P.sub(1), W.sub(0).sub(1))\n",
    "    faz = FunctionAssigner(P.sub(2), V)\n",
    "\n",
    "    disp = Function(P)\n",
    "    disp.rename(\"disp\", \"displacement\")\n",
    "\n",
    "    fname_prefix = \"%s-%07.2f-%05.2f-\" % (init, theta, mu)\n",
    "    dir = \"output/\" + fname_prefix.strip('-')\n",
    "    try:\n",
    "        os.mkdir(dir)\n",
    "    except:\n",
    "        pass\n",
    "\n",
    "    file_name = dir + \"/\" + fname_prefix + \".pvd\"\n",
    "    file = File(file_name)  # .vtu files will have the same prefix\n",
    "\n",
    "    w = Function(W)\n",
    "    w_ = Function(W)\n",
    "    u, v  = w.split()\n",
    "    u_, v_ = w_.split()\n",
    "\n",
    "    w_init = make_initial_data_penalty(init)\n",
    "    w.interpolate(w_init)\n",
    "    w_.interpolate(w_init)\n",
    "\n",
    "    def frobenius_form():\n",
    "        L2 = lambda F, G: F[i,j]*G[i,j]\n",
    "        Q2 = lambda F: L2(F, F)\n",
    "        return Q2, L2\n",
    "    \n",
    "    def isotropic_form(mu_lame=1, lambda_lame=1):\n",
    "        Q2 = lambda F: 2*mu_lame*(sym(F)[i,j]*sym(F)[i,j]) + \\\n",
    "               (2*mu_lame*lambda_lame)/(2*mu_lame + lambda_lame) * tr(F)**2\n",
    "        _left = lambda F: 2*mu_lame*sym(F) + \\\n",
    "               (2*mu_lame*lambda_lame)/(2*mu_lame + lambda_lame) * tr(F) * Identity(2)\n",
    "        L2 = lambda F, G: _left(F)[i,j]*G[i,j]\n",
    "        return Q2, L2\n",
    "\n",
    "    #Q2, L2 = frobenius_form()\n",
    "  \n",
    "    # Some material or other...\n",
    "    E = 1e9\n",
    "    nu = 0.3\n",
    "    Q2, L2 = isotropic_form(e*nu/((1+nu)*(1-2*nu)), E/(2+2*nu))\n",
    "    \n",
    "    def eps(u):\n",
    "        return (grad(u) + grad(u).T)/2.0\n",
    "\n",
    "    e_stop = msh.hmin()*e_stop_mult\n",
    "    max_line_search_steps = 20\n",
    "    step = 0\n",
    "    omega = 0.25   # Gradient descent fudge factor in (0, 1/2)\n",
    "    _hist = {'init': init, 'mu': mu, 'theta': theta, 'e_stop' : e_stop,\n",
    "             'J':[], 'alpha':[], 'du':[], 'dv':[], 'constraint':[],\n",
    "             'symmetry':[], 'file_name': file_name}\n",
    "\n",
    "    B = Identity(2)\n",
    "    zero_energy = assemble((1./24)*inner(B, B)*dx(msh))\n",
    "    def energy(u, v, mu=mu):\n",
    "        J = (theta/2.)*Q2(eps(u)+outer(v, v)/2)*dx(msh) + (1./24)*Q2(grad(v) - B)*dx(msh) \\\n",
    "            + mu*inner(curl(v), curl(v))*dx(msh)\n",
    "        return assemble(J)\n",
    "\n",
    "    # CAREFUL!! Picking the right scalar product here is essential\n",
    "    # Recall the issues with boundary values: integrate partially and only boundary terms survive...\n",
    "    dtw = TrialFunction(W)\n",
    "    z = TestFunction(W)\n",
    "    L = inner(dtw, z)*dx+inner(grad(dtw), grad(z))*dx\n",
    "\n",
    "    dw = Function(W)\n",
    "    du, dv = dw.split()\n",
    "    phi, psi = TestFunctions(W)\n",
    "    \n",
    "    # Output initial condition\n",
    "    opd = compute_potential(v, V)\n",
    "    fax.assign(disp.sub(0), u.sub(0))\n",
    "    fay.assign(disp.sub(1), u.sub(1))\n",
    "    faz.assign(disp.sub(2), opd)\n",
    "    file << (disp, float(step))\n",
    "\n",
    "    cur_energy = energy(u, v)\n",
    "    alpha = ndu = ndv = 1.0\n",
    "\n",
    "    debug(\"Solving with theta = %.2e, mu = %.2e, eps=%.2e for at most %d steps.\" \n",
    "          % (theta, mu, e_stop, max_steps))\n",
    "    begin = time()\n",
    "    while alpha*(ndu**2+ndv**2) > e_stop and step < max_steps:\n",
    "        _curl = assemble(curl(v_)*dx)\n",
    "        _symmetry = circular_symmetry(disp)\n",
    "        _hist['constraint'].append(_curl)\n",
    "        _hist['symmetry'].append(_symmetry)\n",
    "        debug(\"Step %d, energy = %.3e, curl = %.3e, symmetry = %.3f\"\n",
    "              % (step, cur_energy, _curl, _symmetry))\n",
    "\n",
    "        #### Gradient\n",
    "        # for some reason I'm not able to use derivative(J, w_, dtw)\n",
    "        dJ = theta * L2(eps(u_)+outer(v_, v_)/2, eps(phi) + sym(outer(v_, psi)))*dx(msh) \\\n",
    "            + (1./12) * L2(grad(v_) - B, grad(psi))*dx(msh) \\\n",
    "            + 2*mu * inner(curl(v_), curl(psi))*dx(msh)\n",
    "\n",
    "        debug(\"\\tSolving...\", end='')\n",
    "        solve(L == -dJ, dw, [])\n",
    "\n",
    "        du, dv = dw.split()\n",
    "        # dw is never reassigned to a new object so it's ok\n",
    "        # to reuse du, dv without resplitting\n",
    "        ndu = norm(du)\n",
    "        ndv = norm(dv)\n",
    "\n",
    "        debug(\" done with |du| = %.3f, |dv| = %.3f\" % (ndu, ndv))\n",
    "\n",
    "        #### Line search\n",
    "        new_energy = 0\n",
    "        debug(\"\\tSearching... \", end='')\n",
    "        while True:\n",
    "            w = project(w_ + alpha*dw, W)\n",
    "            u, v = w.split()\n",
    "            new_energy = energy(u, v)\n",
    "            if new_energy <= cur_energy - omega*alpha*(ndu**2+ndv**2):\n",
    "                debug(\" alpha = %.2e\" % alpha)\n",
    "                _hist['J'].append(cur_energy)\n",
    "                _hist['alpha'].append(alpha)\n",
    "                _hist['du'].append(ndu)\n",
    "                _hist['dv'].append(ndv)\n",
    "                cur_energy = new_energy\n",
    "                alpha = min(1.0, 2.0 * alpha)  # Use a larger alpha for the next line search\n",
    "                break\n",
    "            if alpha < (1./2)**max_line_search_steps:\n",
    "                raise Exception(\"Line search failed after %d steps\" % max_line_search_steps)\n",
    "            alpha /= 2.0  # Repeat with smaller alpha\n",
    "\n",
    "        step += 1\n",
    "\n",
    "        #### Write displacements to file\n",
    "        debug(\"\\tSaving... \", end='')\n",
    "        opd = compute_potential(v, V)\n",
    "        fax.assign(disp.sub(0), u.sub(0))\n",
    "        fay.assign(disp.sub(1), u.sub(1))\n",
    "        faz.assign(disp.sub(2), opd)\n",
    "        file << (disp, float(step))\n",
    "        debug(\"Done.\")\n",
    "\n",
    "        w_.vector()[:] = w.vector()\n",
    "        u_, v_ = w_.split()\n",
    "        t.update()\n",
    "\n",
    "    _hist['time'] = time() - begin\n",
    "\n",
    "    if step < max_steps:\n",
    "        t.total = step\n",
    "        t.update()\n",
    "    \n",
    "    _hist['steps'] = step\n",
    "    if save_funs:\n",
    "        _hist['disp'] = disp\n",
    "        _hist['u'] = u\n",
    "        _hist['v'] = v\n",
    "        _hist['dtu'] = du\n",
    "        _hist['dtv'] = dv\n",
    "    debug(\"Done after %d steps\" % step)\n",
    "\n",
    "    t.close()\n",
    "    return _hist"
   ]
  },
  {
   "cell_type": "markdown",
   "metadata": {},
   "source": [
    "We store outputs from different runs in a global array"
   ]
  },
  {
   "cell_type": "code",
   "execution_count": null,
   "metadata": {},
   "outputs": [],
   "source": [
    "if globals().get('history') is None:\n",
    "    history = []"
   ]
  },
  {
   "cell_type": "code",
   "execution_count": null,
   "metadata": {
    "scrolled": true
   },
   "outputs": [],
   "source": [
    "parameters[\"form_compiler\"][\"optimize\"]     = True\n",
    "parameters[\"form_compiler\"][\"cpp_optimize\"] = True\n",
    "\n",
    "mesh_file = generate_mesh('circle', 18, 18)\n",
    "theta = 10.0\n",
    "\n",
    "_hist = run_model('ani_parab', mesh_file, theta=theta, mu=0.0,\n",
    "                  max_steps=10000, save_funs=True, e_stop_mult=1e-7)\n",
    "\n",
    "history.append(_hist)"
   ]
  },
  {
   "cell_type": "markdown",
   "metadata": {},
   "source": [
    "# Results"
   ]
  },
  {
   "cell_type": "code",
   "execution_count": null,
   "metadata": {
    "scrolled": false
   },
   "outputs": [],
   "source": [
    "plots1(history[-1], slice(0,-1))"
   ]
  },
  {
   "cell_type": "markdown",
   "metadata": {},
   "source": [
    "# Solution and last update"
   ]
  },
  {
   "cell_type": "code",
   "execution_count": null,
   "metadata": {},
   "outputs": [],
   "source": [
    "plots2(history[-1])"
   ]
  },
  {
   "cell_type": "markdown",
   "metadata": {},
   "source": [
    "# Exploring the range of $\\theta$"
   ]
  },
  {
   "cell_type": "code",
   "execution_count": null,
   "metadata": {},
   "outputs": [],
   "source": [
    "from tqdm import tqdm\n",
    "from joblib import Parallel, delayed\n",
    "\n",
    "theta_values = np.arange(0.0, 100.0, 1.0, dtype=float)\n",
    "# Careful: hyperthreading won't help (we are probably bound by memory r/w)\n",
    "n_jobs = min(11, len(theta_values))\n",
    "\n",
    "new_res = Parallel(n_jobs=n_jobs)(delayed(run_model)('ani_parab', theta=theta, mu=0.0,\n",
    "                                                     fname_prefix='ani-parab-%06.1f-' % theta, \n",
    "                                                     max_steps=2000, save_funs=False,\n",
    "                                                     e_stop_mult=1e-6, n=n) \n",
    "                                  for n, theta in enumerate(theta_values))\n",
    "\n",
    "save_results(new_res, \"results-combined.pickle\")"
   ]
  },
  {
   "cell_type": "markdown",
   "metadata": {},
   "source": [
    "With increasing $\\theta$ we expect the symmetry of the solution to be ever more violated until it is cylindrical rather than parabolic. However there seems to be no clear discontinuity. This can be due to \n",
    "\n",
    "* a poor criterion for symmetry (we are just taking the quotient of the principal axes)\n",
    "* solutions not being proper minima (gradient descent didn't converge to $\\epsilon_{\\text{stop}}$ precision)\n",
    "* ..."
   ]
  },
  {
   "cell_type": "code",
   "execution_count": null,
   "metadata": {},
   "outputs": [],
   "source": [
    "%matplotlib tk\n",
    "from plots import *"
   ]
  },
  {
   "cell_type": "code",
   "execution_count": 127,
   "metadata": {},
   "outputs": [],
   "source": [
    "import matplotlib.pyplot as pl\n",
    "import pickle as pk\n",
    "\n",
    "with open(\"results-combined.pickle\", \"rb\") as f:\n",
    "    res = pk.load(f)"
   ]
  },
  {
   "cell_type": "markdown",
   "metadata": {},
   "source": [
    "Filter runs prematurely stopped and with high values of $\\epsilon_{\\text{stop}}$."
   ]
  },
  {
   "cell_type": "code",
   "execution_count": 128,
   "metadata": {},
   "outputs": [
    {
     "data": {
      "text/plain": [
       "{5.578980999658772e-10, 5.578980999658771e-09, 5.5789809996587706e-08}"
      ]
     },
     "execution_count": 128,
     "metadata": {},
     "output_type": "execute_result"
    }
   ],
   "source": [
    "all_eps = set(v['e_stop'] for k, v in res.items())\n",
    "\n",
    "fres = {k:v for k, v in res.items() if v['e_stop'] == min(all_eps)}\n",
    "fres2 = {k:v for k, v in fres.items() if v['steps'] not in [500, 2000] }"
   ]
  },
  {
   "cell_type": "code",
   "execution_count": 131,
   "metadata": {},
   "outputs": [],
   "source": [
    "plots3(fres, 8, 50)"
   ]
  },
  {
   "cell_type": "markdown",
   "metadata": {},
   "source": [
    "Plot data about some weird runs:"
   ]
  },
  {
   "cell_type": "code",
   "execution_count": null,
   "metadata": {},
   "outputs": [],
   "source": [
    "plots1(get_longest(fres, 8.7), slice(10, -1), 20)"
   ]
  },
  {
   "cell_type": "code",
   "execution_count": 132,
   "metadata": {},
   "outputs": [],
   "source": [
    "plots4([v for k, v in fres.items() if 8.5 <= v['theta'] < 10.0], slice(20, -1), 20)"
   ]
  }
 ],
 "metadata": {
  "hide_input": false,
  "kernelspec": {
   "display_name": "Python 3",
   "language": "python",
   "name": "python3"
  },
  "language_info": {
   "codemirror_mode": {
    "name": "ipython",
    "version": 3
   },
   "file_extension": ".py",
   "mimetype": "text/x-python",
   "name": "python",
   "nbconvert_exporter": "python",
   "pygments_lexer": "ipython3",
   "version": "3.5.3"
  },
  "toc": {
   "nav_menu": {
    "height": "132px",
    "width": "274px"
   },
   "number_sections": true,
   "sideBar": true,
   "skip_h1_title": false,
   "toc_cell": false,
   "toc_position": {},
   "toc_section_display": "block",
   "toc_window_display": false
  },
  "varInspector": {
   "cols": {
    "lenName": 16,
    "lenType": 16,
    "lenVar": 40
   },
   "kernels_config": {
    "python": {
     "delete_cmd_postfix": "",
     "delete_cmd_prefix": "del ",
     "library": "var_list.py",
     "varRefreshCmd": "print(var_dic_list())"
    },
    "r": {
     "delete_cmd_postfix": ") ",
     "delete_cmd_prefix": "rm(",
     "library": "var_list.r",
     "varRefreshCmd": "cat(var_dic_list()) "
    }
   },
   "types_to_exclude": [
    "module",
    "function",
    "builtin_function_or_method",
    "instance",
    "_Feature"
   ],
   "window_display": false
  }
 },
 "nbformat": 4,
 "nbformat_minor": 2
}
