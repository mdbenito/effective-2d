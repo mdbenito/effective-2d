{
 "cells": [
  {
   "cell_type": "code",
   "execution_count": null,
   "metadata": {
    "collapsed": true
   },
   "outputs": [],
   "source": [
    "from dolfin import *\n",
    "import numpy as np\n",
    "import matplotlib.pyplot as pl\n",
    "%matplotlib inline\n",
    "\n",
    "parameters[\"form_compiler\"][\"optimize\"]     = True\n",
    "parameters[\"form_compiler\"][\"cpp_optimize\"] = True"
   ]
  },
  {
   "cell_type": "markdown",
   "metadata": {},
   "source": [
    "# Problem data\n",
    "\n",
    "Most of this is ignored for now. Also, initial values are / can be computed with a linear approximation of the problem."
   ]
  },
  {
   "cell_type": "code",
   "execution_count": null,
   "metadata": {
    "collapsed": true
   },
   "outputs": [],
   "source": [
    "class ExactInPlaneDisplacements(Expression):     \n",
    "    \"\"\" data for the exact solutions with f,g as given in p.14 \"\"\"\n",
    "    def eval(self, values, x):\n",
    "        values[0] = 0.0\n",
    "        values[1] = -x[0]*x[1]/4.0\n",
    "    def value_shape(self):\n",
    "        return (2,)\n",
    "\n",
    "class ExactOutOfPlaneDisplacements(Expression):\n",
    "    \"\"\" data for the exact solutions with f,g as given in p.14 \"\"\"\n",
    "    def eval(self, values, x):\n",
    "        # values[0] is for Q.sub(0) and values[1:] for Q.sub(1) when interpolating\n",
    "        #values[0] = 0.5* x[0]**2 * np.sin(x[1])\n",
    "        values[0] = x[0] * np.sin(x[1])\n",
    "        values[1] = - 0.5* x[0]**2 * np.cos(x[1])\n",
    "    def value_shape(self):\n",
    "        return (2,)"
   ]
  },
  {
   "cell_type": "code",
   "execution_count": null,
   "metadata": {},
   "outputs": [],
   "source": [
    "class InitialInPlaneDisplacements(Expression):     \n",
    "    def eval(self, values, x):\n",
    "        values[0] = 0.0\n",
    "        values[1] = -x[1]/10.0\n",
    "    def value_shape(self):\n",
    "        return (2,)\n",
    "\n",
    "class InitialOutOfPlaneDisplacements(Expression):\n",
    "    def eval(self, values, x):\n",
    "        #values[0] = 0.5*x[0]**2*(1-x[0])**2*sin(4*DOLFIN_PI*x[1])\n",
    "        values[0] = x[0]*(1-x[0])*(1-2*x[0])*sin(4*DOLFIN_PI*x[1])\n",
    "        values[1] = 2*DOLFIN_PI*x[0]**2*(1-x[0])**2*cos(4*DOLFIN_PI*x[1])\n",
    "    def value_shape(self):\n",
    "        return (2,)"
   ]
  },
  {
   "cell_type": "code",
   "execution_count": null,
   "metadata": {
    "collapsed": true
   },
   "outputs": [],
   "source": [
    "class DirichletBoundary(SubDomain):\n",
    "    def inside(self, x, on_boundary):\n",
    "        return abs(x[0]) < DOLFIN_EPS and on_boundary"
   ]
  },
  {
   "cell_type": "markdown",
   "metadata": {},
   "source": [
    "# Discrete spaces\n",
    "\n",
    "In-plane displacements (IPD) are discretized with $(P_2)^2$. Out-of-plane displacements with a mixed function space $P_2 \\ast (P_1)^2$."
   ]
  },
  {
   "cell_type": "code",
   "execution_count": null,
   "metadata": {},
   "outputs": [],
   "source": [
    "msh = RectangleMesh(Point(0.0, -0.5), Point(1.0, 0.5), 20, 20)\n",
    "\n",
    "V = VectorFunctionSpace(msh, \"Lagrange\", 1, dim=2)        # in plane displacements (IPD)\n",
    "DE = FiniteElement(\"Lagrange\", msh.ufl_cell(), 2)         # out of plane displacements (OPD)\n",
    "GE = VectorElement(\"Lagrange\", msh.ufl_cell(), 1, dim=2)  # Gradients of OPD\n",
    "#W = FunctionSpace(msh, DE*GE)                             # mixed space for OPD\n",
    "W = FunctionSpace(msh, GE)                             # mixed space for OPD"
   ]
  },
  {
   "cell_type": "code",
   "execution_count": null,
   "metadata": {},
   "outputs": [],
   "source": [
    "uk  = Function(V)    # current solution for in-plane\n",
    "u_  = Function(V)    # solution from previous step\n",
    "\n",
    "u_init = InitialInPlaneDisplacements(degree=1)\n",
    "uk.interpolate(u_init)\n",
    "u_.interpolate(u_init)"
   ]
  },
  {
   "cell_type": "code",
   "execution_count": null,
   "metadata": {
    "collapsed": true
   },
   "outputs": [],
   "source": [
    "tau_vals = [1.0]         # time step sizes\n",
    "gamma = 1.0\n",
    "\n",
    "def eps(u):\n",
    "    return grad(u) + grad(u).T\n",
    "\n",
    "f = Constant(0.0) #Constant(1e-5)\n",
    "#tau = Constant(tau_vals[-1])"
   ]
  },
  {
   "cell_type": "markdown",
   "metadata": {},
   "source": [
    "# Boundary conditions\n",
    "\n",
    "I guess this needs some thinking..."
   ]
  },
  {
   "cell_type": "code",
   "execution_count": null,
   "metadata": {},
   "outputs": [],
   "source": [
    "bcV = DirichletBC(V, Expression((\"0.0\", \"-x[1]/10\"), element=V.ufl_element()), DirichletBoundary())\n",
    "#bcW = DirichletBC(W.sub(0), Constant(0.0), DirichletBoundary())\n",
    "#bcDW = DirichletBC(W.sub(1), Constant((0.0, 0.0)), DirichletBoundary())\n",
    "bcDW = DirichletBC(W, Constant((0.0, 0.0)), DirichletBoundary())"
   ]
  },
  {
   "cell_type": "markdown",
   "metadata": {},
   "source": [
    "# Initial solution / guess\n",
    "\n",
    "(Maybe) solve a linear problem to obtain some initial `w_, dw_`."
   ]
  },
  {
   "cell_type": "code",
   "execution_count": null,
   "metadata": {},
   "outputs": [],
   "source": [
    "#wdwk = Function(W)   # current solution for out of plane\n",
    "#wdw_ = Function(W)   # solution from previous step\n",
    "\n",
    "dwk = Function(W)   # current solution for out of plane\n",
    "dw_ = Function(W)   # solution from previous step\n",
    "\n",
    "\n",
    "#wk, dwk = split(wdwk)    # displacement and gradient of current solution\n",
    "#w_, dw_ = split(wdw_)    # displacement and gradient of previous solution\n",
    "\n",
    "# FIXME: solve linearised problem to compute these?\n",
    "wdw_init = InitialOutOfPlaneDisplacements(degree=1)\n",
    "#wdwk.interpolate(wdw_init)\n",
    "#wdw_.interpolate(wdw_init)\n",
    "dwk.interpolate(wdw_init)\n",
    "dw_.interpolate(wdw_init)"
   ]
  },
  {
   "cell_type": "markdown",
   "metadata": {},
   "source": [
    "wk, dwk = TrialFunctions(W)\n",
    "p, q = TestFunctions(W)\n",
    "\n",
    "a = (1 + gamma**2*tau_vals[k])*inner(grad(dwk), grad(q))*dx \\\n",
    "    + 2*tau_vals[k]*inner(dot(eps(u_), dwk), q)*dx \\\n",
    "    + inner(dwk - grad(wk), q)*dx\n",
    "F = inner(f, p)*dx\n",
    "\n",
    "wdw_ = Function(W)       # solution from previous step in main loop\n",
    "solve(a == F, wdw_, [bcW, bcDW])\n",
    "\n",
    "wdwk = Function(W)       # current solution for out of plane\n",
    "wk, dwk = split(wdwk)    # displacement and gradient of current solution\n",
    "w_, dw_ = split(wdw_)    # displacement and gradient of previous solution"
   ]
  },
  {
   "cell_type": "code",
   "execution_count": null,
   "metadata": {},
   "outputs": [],
   "source": [
    "pl.figure(figsize=(10,10))\n",
    "#_ = plot(w_, title=\"Initial OPD\")\n",
    "_ = plot(dw_, title=\"Initial OPD\")"
   ]
  },
  {
   "cell_type": "markdown",
   "metadata": {},
   "source": [
    "# Nonlinear problem"
   ]
  },
  {
   "cell_type": "code",
   "execution_count": null,
   "metadata": {},
   "outputs": [],
   "source": [
    "threshold_iter_newton = 5           # Newton should converge in at most these steps\n",
    "max_attempts_nonlinear = 10         # Number of times we try to decrease tau before giving up with Newton\n",
    "max_step_size = 10**5               # max value of tau_vals\n",
    "e_newton = 1.0e-5                   # tolerance for Newton\n",
    "e_stop = msh.hmin()*1e-8\n",
    "\n",
    "def setup_newton(W, dwk, dw_, bcs, tau, omega=1.0, mu=1e5):\n",
    "    #p, q = TestFunctions(W)\n",
    "    q = TestFunction(W)\n",
    "    #wk, dwk = split(wdwk)    # displacement and gradient of current solution\n",
    "    #w_, dw_ = split(wdw_)    # displacement and gradient of previous solution\n",
    "    F = (1+gamma**2*tau) * inner(grad(dwk), grad(q))*dx - inner(grad(dw_), grad(q))*dx \\\n",
    "        + 2*tau*inner(inner(dwk, dwk)*dwk + dot(eps(u_), (dwk + dw_)/2), q)*dx \\\n",
    "        + mu*tau*curl(dwk)*curl(q)*dx\n",
    "        #+ tau*inner(f, p)*dx \\\n",
    "        #+ 1e5*inner(dwk - grad(wk), q)*dx\n",
    "        #+ inner(dwk - grad(wk), dwk - grad(wk)) * p * dx  # FIXME: this just wrong...\n",
    "    # FIXME: this should also have a different test function as in L0, right?\n",
    "\n",
    "    # FIXME! I need two different test functions here\n",
    "    #F1 = inner(wk, grad(p)[0])*dx + inner(dwk[0],p)*dx \\\n",
    "    #     + inner(wk, grad(p)[1])*dx + inner(dwk[1],p)*dx\n",
    "    #F = F0 + F1\n",
    "    \n",
    "    dpq = TrialFunction(W)  # direction along which to compute the derivative of the functional\n",
    "    J = derivative(F, dwk, dpq)\n",
    "    problem = NonlinearVariationalProblem(F, dwk, bcs, J)\n",
    "    solver = NonlinearVariationalSolver(problem)\n",
    "    prm = solver.parameters\n",
    "    prm['newton_solver']['absolute_tolerance'] = e_newton/10.0\n",
    "    prm['newton_solver']['relative_tolerance'] = e_newton\n",
    "    prm['newton_solver']['maximum_iterations'] = 20\n",
    "    prm['newton_solver']['relaxation_parameter'] = omega\n",
    "    return solver\n",
    "\n",
    "#solver = setup_newton(W, wdwk, wdw_, [bcW, bcDW], tau_vals[-1])\n",
    "solver = setup_newton(W, dwk, dw_, bcDW, tau_vals[-1])\n",
    "set_log_level(PROGRESS)\n",
    "file = File(\"displacements.pvd\")"
   ]
  },
  {
   "cell_type": "code",
   "execution_count": null,
   "metadata": {
    "collapsed": true
   },
   "outputs": [],
   "source": [
    "# Old stuff:\n",
    "\n",
    "#class OutOfPlane(NonlinearProblem):\n",
    "#    def __init__(self, a, L):\n",
    "#        NonlinearProblem.__init__(self)\n",
    "#        self.L = L\n",
    "#        self.a = a\n",
    "#    def F(self, b, x):\n",
    "#        assemble(self.L, tensor=b)\n",
    "#    def J(self, A, x):\n",
    "#        assemble(self.a, tensor=A)\n",
    "\n",
    "#problem = OutOfPlane(J, F)  # FIXME! what about bcs??\n",
    "#solver = NewtonSolver()\n",
    "\n",
    "#solver.parameters[\"linear_solver\"] = \"lu\" #\"mumps\"\n",
    "#solver.parameters[\"convergence_criterion\"] = \"incremental\"\n",
    "#solver.parameters[\"relative_tolerance\"] = e_newton"
   ]
  },
  {
   "cell_type": "markdown",
   "metadata": {},
   "source": [
    "# Linear problem"
   ]
  },
  {
   "cell_type": "code",
   "execution_count": null,
   "metadata": {},
   "outputs": [],
   "source": [
    "u, z = TrialFunction(V), TestFunction(V)\n",
    "g  = Constant((0, 0))\n",
    "L3 = inner(eps(u_), eps(z))*dx + tau_vals[-1]*inner(outer(dw_, dw_), eps(z))*dx + tau_vals[-1]*inner(g,z)*dx\n",
    "b = inner((1+tau_vals[-1])*eps(u), eps(z))*dx"
   ]
  },
  {
   "cell_type": "markdown",
   "metadata": {},
   "source": [
    "# Main loop\n",
    "\n",
    "Iteratively solve the nonlinear and the linear problem until convergence. At each step the former is run with decreasingly small $\\tau_k$ until Newton converges in under `threshold_iter_newton` (e.g. 5) iterations."
   ]
  },
  {
   "cell_type": "code",
   "execution_count": null,
   "metadata": {
    "scrolled": false
   },
   "outputs": [],
   "source": [
    "k = 0 # current iteration\n",
    "omega = 1.0  # relaxation parameter\n",
    "tau_vals = [1.0]\n",
    "curls = []\n",
    "dwk.interpolate(wdw_init)\n",
    "dw_.interpolate(wdw_init)\n",
    "while True:\n",
    "    print(\"Step %d: tau_vals = %.3f\" % (k, tau_vals[-1]))\n",
    "    curls.append(assemble(curl(dwk)*dx))\n",
    "    print(\"Current curl = %e\" % curls[-1])\n",
    "    # solve OOP until newton ends in less than threshold_iter_newton steps\n",
    "    j = 0\n",
    "    while j < max_attempts_nonlinear:\n",
    "        #solver = setup_newton(W, wdwk, wdw_, [bcW, bcDW], tau_vals[-1], omega)\n",
    "        solver = setup_newton(W, dwk, dw_, bcDW, tau_vals[-1], omega, 1e8)\n",
    "        print(\"    Running Newton with tau = %.3f, omega = %.2f\" % (tau_vals[-1], omega))\n",
    "        #wdw_.vector()[:] = wdwk.vector()\n",
    "        dw_.vector()[:] = dwk.vector()\n",
    "        try:\n",
    "            niter, converged = solver.solve()\n",
    "            if niter < threshold_iter_newton and converged:\n",
    "                print(\"    Newton converged in %d iterations\" % niter)\n",
    "                break\n",
    "        except RuntimeError as e:\n",
    "            print(\"    Newton did not converge\")  # FIXME: technically we are not sure this is the problem\n",
    "            omega *= 0.5\n",
    "        tau_vals[-1] *= 0.7\n",
    "        #replace(F, {tau: Constant(tau_vals[-1])})\n",
    "        j += 1\n",
    "\n",
    "    u_.vector()[:] = uk.vector()\n",
    "    L3 = inner(eps(u_), eps(z))*dx + tau_vals[-1]*inner(outer(dw_, dw_), eps(z))*dx + tau_vals[-1]*inner(g,z)*dx\n",
    "    b = inner((1+tau_vals[-1])*eps(u), eps(z))*dx\n",
    "    solve(b == L3, uk, bcV)\n",
    "    test1 = assemble(inner(grad(dwk-dw_), grad(dwk-dw_))*dx)\n",
    "    test2 = assemble(inner(eps(uk-u_), eps(uk-u_))*dx)\n",
    "    if test1+test2 <= tau_vals[-1]*e_stop*min(1.0, tau_vals[-1]):\n",
    "        print(\"Done with update of norm %.3f\" % (test1+test2))\n",
    "        break\n",
    "    file << (uk, float(k))\n",
    "    #file << (wdwk.split()[0], tau_vals[-1])\n",
    "    file << (dwk, float(k))\n",
    "    tau_vals.append(min(2*tau_vals[-1], max_step_size))\n",
    "    # FIXME: replace is NOT WORKING! \n",
    "    #replace(F, {tau: Constant(tau_vals[-1])})\n",
    "    #replace(L3, {tau: Constant(tau_vals[-1])})\n",
    "    #replace(b, {tau: Constant(tau_vals[-1])})\n",
    "    k += 1"
   ]
  },
  {
   "cell_type": "code",
   "execution_count": null,
   "metadata": {},
   "outputs": [],
   "source": [
    "pl.plot(tau_vals)"
   ]
  },
  {
   "cell_type": "code",
   "execution_count": null,
   "metadata": {},
   "outputs": [],
   "source": [
    "orig = Function(W)\n",
    "orig.interpolate(wdw_init)\n",
    "\n",
    "diff = project(orig - dwk)\n",
    "print(norm(diff.vector(), 'l2'))\n",
    "print(norm(diff.vector(), 'linf'))"
   ]
  },
  {
   "cell_type": "code",
   "execution_count": null,
   "metadata": {},
   "outputs": [],
   "source": [
    "pl.figure(figsize=(22,8))\n",
    "pl.subplot(1,3,1)\n",
    "_ = plot(orig, title=\"Init: %e - %e\" % (orig.vector().min(), orig.vector().max()))\n",
    "pl.subplot(1,3,2)\n",
    "_ = plot(dwk, title=\"Sol: %e - %e\" % (dwk.vector().min(), dwk.vector().max()))\n",
    "pl.subplot(1,3,3)\n",
    "_ = plot(diff, title=\"Diff: %e - %e\" % (diff.vector().min(), diff.vector().max()))"
   ]
  }
 ],
 "metadata": {
  "hide_input": false,
  "kernelspec": {
   "display_name": "Python 3",
   "language": "python",
   "name": "python3"
  },
  "language_info": {
   "codemirror_mode": {
    "name": "ipython",
    "version": 3
   },
   "file_extension": ".py",
   "mimetype": "text/x-python",
   "name": "python",
   "nbconvert_exporter": "python",
   "pygments_lexer": "ipython3",
   "version": "3.5.3"
  },
  "toc": {
   "nav_menu": {},
   "number_sections": true,
   "sideBar": true,
   "skip_h1_title": false,
   "toc_cell": false,
   "toc_position": {},
   "toc_section_display": "block",
   "toc_window_display": false
  },
  "varInspector": {
   "cols": {
    "lenName": 16,
    "lenType": 16,
    "lenVar": 40
   },
   "kernels_config": {
    "python": {
     "delete_cmd_postfix": "",
     "delete_cmd_prefix": "del ",
     "library": "var_list.py",
     "varRefreshCmd": "print(var_dic_list())"
    },
    "r": {
     "delete_cmd_postfix": ") ",
     "delete_cmd_prefix": "rm(",
     "library": "var_list.r",
     "varRefreshCmd": "cat(var_dic_list()) "
    }
   },
   "types_to_exclude": [
    "module",
    "function",
    "builtin_function_or_method",
    "instance",
    "_Feature"
   ],
   "window_display": false
  }
 },
 "nbformat": 4,
 "nbformat_minor": 2
}
